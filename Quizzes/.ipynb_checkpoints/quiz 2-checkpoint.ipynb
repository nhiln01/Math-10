{
 "cells": [
  {
   "cell_type": "markdown",
   "metadata": {},
   "source": [
    "# Quiz 2"
   ]
  },
  {
   "cell_type": "code",
   "execution_count": 5,
   "metadata": {},
   "outputs": [
    {
     "name": "stdout",
     "output_type": "stream",
     "text": [
      "[10, 5, 16, 8, 4, 2, 1]\n"
     ]
    }
   ],
   "source": [
    "x=10\n",
    "steps=[x]\n",
    "while x!=1:\n",
    "    if x%2==0:\n",
    "        x=x//2\n",
    "    else:\n",
    "        x=3*x+1\n",
    "    steps.append(x)\n",
    "print(steps)"
   ]
  },
  {
   "cell_type": "code",
   "execution_count": 6,
   "metadata": {},
   "outputs": [
    {
     "data": {
      "text/plain": [
       "[3, 4, -1, 2, 5, -2, 6, 1]"
      ]
     },
     "execution_count": 6,
     "metadata": {},
     "output_type": "execute_result"
    }
   ],
   "source": [
    "[3,4,-1,2]+[5,-2,6,1]"
   ]
  },
  {
   "cell_type": "code",
   "execution_count": 10,
   "metadata": {},
   "outputs": [
    {
     "name": "stdout",
     "output_type": "stream",
     "text": [
      "4\n",
      "1\n",
      "[1, 3, 4]\n"
     ]
    }
   ],
   "source": [
    "num=4\n",
    "lst=[2,3,4]\n",
    "def modifier(num,lst):\n",
    "    num=1\n",
    "    lst[0]=1\n",
    "    return num\n",
    "y=modifier(num,lst)\n",
    "print(num)\n",
    "print(y)\n",
    "print(lst)"
   ]
  },
  {
   "cell_type": "code",
   "execution_count": 11,
   "metadata": {},
   "outputs": [
    {
     "name": "stdout",
     "output_type": "stream",
     "text": [
      "9\n"
     ]
    }
   ],
   "source": [
    "mylist=[x**2 for x in range(5) if x%2==1]\n",
    "print(mylist[1])"
   ]
  },
  {
   "cell_type": "code",
   "execution_count": 12,
   "metadata": {},
   "outputs": [
    {
     "name": "stdout",
     "output_type": "stream",
     "text": [
      "True\n"
     ]
    }
   ],
   "source": [
    "def isinMandelbrotset(c,maxValue=100,maxIterations=10):\n",
    "    isMember=False\n",
    "    i=0\n",
    "    z=0\n",
    "    while abs(z)<maxValue and i<maxIterations:\n",
    "        z=z**2+c\n",
    "        i+=1\n",
    "    if i>=maxIterations:\n",
    "        isMember=True\n",
    "    return isMember\n",
    "print(isinMandelbrotset(-1))"
   ]
  },
  {
   "cell_type": "code",
   "execution_count": 27,
   "metadata": {},
   "outputs": [],
   "source": [
    "class Quaternion:\n",
    "    def __init__(self, scalarpart, ipart, jpart, kpart):\n",
    "        self.a = scalarpart\n",
    "        self.b = ipart\n",
    "        self.c = jpart\n",
    "        self.d = kpart\n",
    "        \n",
    "    def __repr__(self):\n",
    "        # a+bi+cj+dk\n",
    "        return f'{self.a}{self.b:+g}i{self.c:+g}j{self.d:+g}k'\n",
    "    \n",
    "    def __add__(self, q):\n",
    "        return Quaternion(self.a+q.a, self.b+q.b, self.c+q.c, self.d+q.d)\n",
    "    \n",
    "    def __mul__(self,q):\n",
    "        scalarpart=self.a*q.a-self.b*q.b-self.c*q.c-self.d*q.d\n",
    "        ipart=self.a*q.b+self.b*q.a+self.c*q.d-self.d*q.d\n",
    "        jpart=self.a*q.c-self.b*q.d+self.c*q.a+self.d*q.b\n",
    "        kpart=self.a*q.d+self.b*q.c-self.c*q.b+self.d*q.a\n",
    "        return Quaternion(scalarpart,ipart,jpart,kpart)\n",
    "    \n",
    "    def norm(self):\n",
    "        return(self.a**2+self.b**2+self.c**2+self.d**2)**(1/2)\n",
    "    \n",
    "    def conj(self):\n",
    "        return Quaternion(self.a, -self.b, -self.c, -self.d)"
   ]
  },
  {
   "cell_type": "code",
   "execution_count": 28,
   "metadata": {},
   "outputs": [
    {
     "name": "stdout",
     "output_type": "stream",
     "text": [
      "2\n"
     ]
    }
   ],
   "source": [
    "p = Quaternion(0,1,1,1)\n",
    "q = Quaternion(0,-1,1,-1)\n",
    "qbar = q.conj()\n",
    "res = p+qbar\n",
    "print(res.b)"
   ]
  }
 ],
 "metadata": {
  "kernelspec": {
   "display_name": "Python 3",
   "language": "python",
   "name": "python3"
  },
  "language_info": {
   "codemirror_mode": {
    "name": "ipython",
    "version": 3
   },
   "file_extension": ".py",
   "mimetype": "text/x-python",
   "name": "python",
   "nbconvert_exporter": "python",
   "pygments_lexer": "ipython3",
   "version": "3.8.5"
  }
 },
 "nbformat": 4,
 "nbformat_minor": 4
}
