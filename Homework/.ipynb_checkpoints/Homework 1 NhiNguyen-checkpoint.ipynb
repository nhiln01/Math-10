{
 "cells": [
  {
   "cell_type": "markdown",
   "metadata": {},
   "source": [
    "# Homework 1"
   ]
  },
  {
   "cell_type": "markdown",
   "metadata": {},
   "source": [
    "## Nhi Nguyen 76164237"
   ]
  },
  {
   "cell_type": "markdown",
   "metadata": {},
   "source": [
    "### [Fundamental Theorem of Calculus](https://en.wikipedia.org/wiki/Fundamental_theorem_of_calculus)\n",
    "\n",
    "**The First Fundamental Theorem of Calculus**\n",
    "\n",
    "Let $f$ be a continuous real-valued function defined on a closed interval $[a,b]$. Let $F$ be the function defined, for all $x$ in $[a,b]$, by\n",
    "\n",
    "$F(x) = \\int_{a}^x f(t)dt$.\n",
    "\n",
    "Then $F$ is uniformly continuous on $[a,b]$ and differentiable on the open interval $(a,b)$, and \n",
    "\n",
    "$F(x)=f(x)$\n",
    "\n",
    "\n",
    "**The Second Fundamental Theorem of Calculus**\n",
    "\n",
    "Let $f$ be a real-valued function on a closed interval $[a,b]$ and $F$ an antiderivative of $f$ in $[a,b]$:\n",
    "\n",
    "$F'(x)=f(x)$.\n",
    "\n",
    "If $f$ is Rienmann integrable on $[a,b]$ then \n",
    "\n",
    "$\\int_{a}^b f(x)dx = F(b)-F(a)$."
   ]
  }
 ],
 "metadata": {
  "kernelspec": {
   "display_name": "Python 3",
   "language": "python",
   "name": "python3"
  },
  "language_info": {
   "codemirror_mode": {
    "name": "ipython",
    "version": 3
   },
   "file_extension": ".py",
   "mimetype": "text/x-python",
   "name": "python",
   "nbconvert_exporter": "python",
   "pygments_lexer": "ipython3",
   "version": "3.8.5"
  }
 },
 "nbformat": 4,
 "nbformat_minor": 4
}
