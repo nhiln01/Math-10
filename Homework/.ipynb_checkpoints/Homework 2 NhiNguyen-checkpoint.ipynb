{
 "cells": [
  {
   "cell_type": "markdown",
   "metadata": {},
   "source": [
    "# Homework 2\n",
    "### Nhi Nguyen 76164237"
   ]
  },
  {
   "cell_type": "markdown",
   "metadata": {},
   "source": [
    "### Problem 1: List Manipulation\n",
    "\n",
    "Create a list object, containing all even numbers from 1 to 99, name it mylist\n",
    "Print the identity of mylist\n",
    "Append integer 3 to mylist\n",
    "Print the identity of mylist\n",
    "Sort the mylist with descending order\n",
    "Print the identity of mylist again\n",
    "Print mylist\n",
    "Hint: You may use the methods for list objects to do the tasks. In addition to the help function, you can find more examples [here](https://www.w3schools.com/python/python_ref_list.asp)"
   ]
  },
  {
   "cell_type": "code",
   "execution_count": null,
   "metadata": {},
   "outputs": [],
   "source": [
    "# write your codes and comments here"
   ]
  },
  {
   "cell_type": "markdown",
   "metadata": {},
   "source": [
    "### Problem 2: Divisor Generator\n",
    "Write a function named divisor_generator which takes a positive integer as input, and return a list of all its positive divisors.\n",
    "Test your function by printing the results of divisor_generator(202104)\n",
    "Hint:\n",
    "- For basic requirement, you don't have to check whether the input is positive integer or not -- of course it would be great if you do so.\n",
    "- For a more efficient implementation, you might only need iterate for integers not greater than the square root of n -- think why!"
   ]
  },
  {
   "cell_type": "code",
   "execution_count": null,
   "metadata": {},
   "outputs": [],
   "source": [
    "# write codes and comments here"
   ]
  },
  {
   "cell_type": "markdown",
   "metadata": {},
   "source": [
    "### Problem 3: Prime Number\n",
    "Write a function named is_prime which takes a positive integer as input, and return True if it is prime number and False otherwise.\n",
    "Use this function to generate a list named primelist that contains all prime numbers less than 2021. Print this list."
   ]
  },
  {
   "cell_type": "code",
   "execution_count": null,
   "metadata": {},
   "outputs": [],
   "source": [
    "# write codes and comments here"
   ]
  },
  {
   "cell_type": "markdown",
   "metadata": {},
   "source": [
    "### Optional Problem (not graded)\n",
    "In certain homeworks/final project, we will provide some optional problems for you to think and try. They won't count in the grades, while they may serve as the good opportunity to sharpen your skills, as well as the important reference to determine the A+ grade at the end of this course.\n",
    "\n",
    "Try to use the list comprehension as possible as you can in writing the codes above.\n",
    "For task 2 in Problem 3, can you use efficient algorithms, for instance [Sieve of Eratosthenes](https://en.wikipedia.org/wiki/Sieve_of_Eratosthenes)?"
   ]
  },
  {
   "cell_type": "code",
   "execution_count": null,
   "metadata": {},
   "outputs": [],
   "source": [
    "# write codes and comments here"
   ]
  }
 ],
 "metadata": {
  "kernelspec": {
   "display_name": "Python 3",
   "language": "python",
   "name": "python3"
  },
  "language_info": {
   "codemirror_mode": {
    "name": "ipython",
    "version": 3
   },
   "file_extension": ".py",
   "mimetype": "text/x-python",
   "name": "python",
   "nbconvert_exporter": "python",
   "pygments_lexer": "ipython3",
   "version": "3.8.5"
  }
 },
 "nbformat": 4,
 "nbformat_minor": 4
}
