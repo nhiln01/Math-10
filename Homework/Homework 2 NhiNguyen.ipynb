{
 "cells": [
  {
   "cell_type": "markdown",
   "metadata": {},
   "source": [
    "# Homework 2\n",
    "### Nhi Nguyen 76164237"
   ]
  },
  {
   "cell_type": "markdown",
   "metadata": {},
   "source": [
    "### Problem 1: List Manipulation\n",
    "\n",
    "Write the codes in one cell to execute the following tasks:\n",
    "\n",
    "1. Create a list object, containing all even numbers from 1 to 99, name it mylist\n",
    "2. Print the identity of mylist\n",
    "3. Append integer 3 to mylist\n",
    "4. Print the identity of mylist\n",
    "5. Sort the mylist with descending order\n",
    "6. Print the identity of mylist again\n",
    "7. Print mylist\n",
    "\n",
    "Hint: You may use the methods for list objects to do the tasks. In addition to the help function, you can find more examples [here](https://www.w3schools.com/python/python_ref_list.asp)"
   ]
  },
  {
   "cell_type": "code",
   "execution_count": 48,
   "metadata": {},
   "outputs": [
    {
     "name": "stdout",
     "output_type": "stream",
     "text": [
      "2661128957888\n",
      "2661128957888\n",
      "2661128957888\n",
      "[99, 98, 97, 96, 95, 94, 93, 92, 91, 90, 89, 88, 87, 86, 85, 84, 83, 82, 81, 80, 79, 78, 77, 76, 75, 74, 73, 72, 71, 70, 69, 68, 67, 66, 65, 64, 63, 62, 61, 60, 59, 58, 57, 56, 55, 54, 53, 52, 51, 50, 49, 48, 47, 46, 45, 44, 43, 42, 41, 40, 39, 38, 37, 36, 35, 34, 33, 32, 31, 30, 29, 28, 27, 26, 25, 24, 23, 22, 21, 20, 19, 18, 17, 16, 15, 14, 13, 12, 11, 10, 9, 8, 7, 6, 5, 4, 3, 3, 2, 1]\n"
     ]
    }
   ],
   "source": [
    "mylist=list(range(1,100))\n",
    "print(id(mylist))\n",
    "mylist.append(3)\n",
    "print(id(mylist))\n",
    "mylist.sort()\n",
    "mylist.reverse()\n",
    "print(id(mylist))\n",
    "print(mylist)"
   ]
  },
  {
   "cell_type": "markdown",
   "metadata": {},
   "source": [
    "### Problem 2: Divisor Generator\n",
    "1. Write a function named divisor_generator which takes a positive integer as input, and return a list of all its positive divisors.\n",
    "2. Test your function by printing the results of divisor_generator(202104)\n",
    "\n",
    "Hint:\n",
    "- For basic requirement, you don't have to check whether the input is positive integer or not -- of course it would be great if you do so.\n",
    "- For a more efficient implementation, you might only need iterate for integers not greater than the square root of n -- think why!"
   ]
  },
  {
   "cell_type": "code",
   "execution_count": 29,
   "metadata": {},
   "outputs": [],
   "source": [
    "def divisor_generator(y):\n",
    "    if y<=0:\n",
    "        return None\n",
    "    list_divisor=[]\n",
    "    for x in range(2,y):\n",
    "        if y%x ==0:\n",
    "            list_divisor.append(x)\n",
    "    list_divisor.append(y)\n",
    "    return list_divisor"
   ]
  },
  {
   "cell_type": "code",
   "execution_count": 30,
   "metadata": {},
   "outputs": [
    {
     "data": {
      "text/plain": [
       "[2,\n",
       " 3,\n",
       " 4,\n",
       " 6,\n",
       " 7,\n",
       " 8,\n",
       " 9,\n",
       " 12,\n",
       " 14,\n",
       " 18,\n",
       " 21,\n",
       " 24,\n",
       " 28,\n",
       " 36,\n",
       " 42,\n",
       " 56,\n",
       " 63,\n",
       " 72,\n",
       " 84,\n",
       " 126,\n",
       " 168,\n",
       " 252,\n",
       " 401,\n",
       " 504,\n",
       " 802,\n",
       " 1203,\n",
       " 1604,\n",
       " 2406,\n",
       " 2807,\n",
       " 3208,\n",
       " 3609,\n",
       " 4812,\n",
       " 5614,\n",
       " 7218,\n",
       " 8421,\n",
       " 9624,\n",
       " 11228,\n",
       " 14436,\n",
       " 16842,\n",
       " 22456,\n",
       " 25263,\n",
       " 28872,\n",
       " 33684,\n",
       " 50526,\n",
       " 67368,\n",
       " 101052,\n",
       " 202104]"
      ]
     },
     "execution_count": 30,
     "metadata": {},
     "output_type": "execute_result"
    }
   ],
   "source": [
    "divisor_generator(202104)"
   ]
  },
  {
   "cell_type": "markdown",
   "metadata": {},
   "source": [
    "### Problem 3: Prime Number\n",
    "1. Write a function named is_prime which takes a positive integer as input, and return True if it is prime number and False otherwise.\n",
    "2. Use this function to generate a list named primelist that contains all prime numbers less than 2021. Print this list."
   ]
  },
  {
   "cell_type": "code",
   "execution_count": 43,
   "metadata": {},
   "outputs": [],
   "source": [
    "def is_prime(n):\n",
    "    if n<=1:\n",
    "        return None\n",
    "    for t in range(2,n):\n",
    "        if n%t==0:\n",
    "            return False\n",
    "    return True"
   ]
  },
  {
   "cell_type": "code",
   "execution_count": 44,
   "metadata": {},
   "outputs": [
    {
     "name": "stdout",
     "output_type": "stream",
     "text": [
      "[2, 3, 5, 7, 11, 13, 17, 19, 23, 29, 31, 37, 41, 43, 47, 53, 59, 61, 67, 71, 73, 79, 83, 89, 97, 101, 103, 107, 109, 113, 127, 131, 137, 139, 149, 151, 157, 163, 167, 173, 179, 181, 191, 193, 197, 199, 211, 223, 227, 229, 233, 239, 241, 251, 257, 263, 269, 271, 277, 281, 283, 293, 307, 311, 313, 317, 331, 337, 347, 349, 353, 359, 367, 373, 379, 383, 389, 397, 401, 409, 419, 421, 431, 433, 439, 443, 449, 457, 461, 463, 467, 479, 487, 491, 499, 503, 509, 521, 523, 541, 547, 557, 563, 569, 571, 577, 587, 593, 599, 601, 607, 613, 617, 619, 631, 641, 643, 647, 653, 659, 661, 673, 677, 683, 691, 701, 709, 719, 727, 733, 739, 743, 751, 757, 761, 769, 773, 787, 797, 809, 811, 821, 823, 827, 829, 839, 853, 857, 859, 863, 877, 881, 883, 887, 907, 911, 919, 929, 937, 941, 947, 953, 967, 971, 977, 983, 991, 997, 1009, 1013, 1019, 1021, 1031, 1033, 1039, 1049, 1051, 1061, 1063, 1069, 1087, 1091, 1093, 1097, 1103, 1109, 1117, 1123, 1129, 1151, 1153, 1163, 1171, 1181, 1187, 1193, 1201, 1213, 1217, 1223, 1229, 1231, 1237, 1249, 1259, 1277, 1279, 1283, 1289, 1291, 1297, 1301, 1303, 1307, 1319, 1321, 1327, 1361, 1367, 1373, 1381, 1399, 1409, 1423, 1427, 1429, 1433, 1439, 1447, 1451, 1453, 1459, 1471, 1481, 1483, 1487, 1489, 1493, 1499, 1511, 1523, 1531, 1543, 1549, 1553, 1559, 1567, 1571, 1579, 1583, 1597, 1601, 1607, 1609, 1613, 1619, 1621, 1627, 1637, 1657, 1663, 1667, 1669, 1693, 1697, 1699, 1709, 1721, 1723, 1733, 1741, 1747, 1753, 1759, 1777, 1783, 1787, 1789, 1801, 1811, 1823, 1831, 1847, 1861, 1867, 1871, 1873, 1877, 1879, 1889, 1901, 1907, 1913, 1931, 1933, 1949, 1951, 1973, 1979, 1987, 1993, 1997, 1999, 2003, 2011, 2017]\n"
     ]
    }
   ],
   "source": [
    "list_prime=[]\n",
    "for n in range(0,2021):\n",
    "    if is_prime(n) is True:\n",
    "        list_prime.append(n)\n",
    "print(list_prime)"
   ]
  },
  {
   "cell_type": "markdown",
   "metadata": {},
   "source": [
    "### Optional Problem (not graded)\n",
    "In certain homeworks/final project, we will provide some optional problems for you to think and try. They won't count in the grades, while they may serve as the good opportunity to sharpen your skills, as well as the important reference to determine the A+ grade at the end of this course.\n",
    "\n",
    "1. Try to use the list comprehension as possible as you can in writing the codes above.\n",
    "2. For task 2 in Problem 3, can you use efficient algorithms, for instance [Sieve of Eratosthenes](https://en.wikipedia.org/wiki/Sieve_of_Eratosthenes)?"
   ]
  },
  {
   "cell_type": "code",
   "execution_count": 60,
   "metadata": {},
   "outputs": [],
   "source": [
    "## Problem 2\n",
    "def divisor_generator(y):\n",
    "    if y<=0:\n",
    "        return None\n",
    "    \n",
    "    divisor_list=[x for x in range(2,y) if y%x==0]\n",
    "    \n",
    "    divisor_list.append(y)\n",
    "    return divisor_list"
   ]
  },
  {
   "cell_type": "code",
   "execution_count": 61,
   "metadata": {},
   "outputs": [
    {
     "data": {
      "text/plain": [
       "[2,\n",
       " 3,\n",
       " 4,\n",
       " 6,\n",
       " 7,\n",
       " 8,\n",
       " 9,\n",
       " 12,\n",
       " 14,\n",
       " 18,\n",
       " 21,\n",
       " 24,\n",
       " 28,\n",
       " 36,\n",
       " 42,\n",
       " 56,\n",
       " 63,\n",
       " 72,\n",
       " 84,\n",
       " 126,\n",
       " 168,\n",
       " 252,\n",
       " 401,\n",
       " 504,\n",
       " 802,\n",
       " 1203,\n",
       " 1604,\n",
       " 2406,\n",
       " 2807,\n",
       " 3208,\n",
       " 3609,\n",
       " 4812,\n",
       " 5614,\n",
       " 7218,\n",
       " 8421,\n",
       " 9624,\n",
       " 11228,\n",
       " 14436,\n",
       " 16842,\n",
       " 22456,\n",
       " 25263,\n",
       " 28872,\n",
       " 33684,\n",
       " 50526,\n",
       " 67368,\n",
       " 101052,\n",
       " 202104]"
      ]
     },
     "execution_count": 61,
     "metadata": {},
     "output_type": "execute_result"
    }
   ],
   "source": [
    "divisor_generator(202104)"
   ]
  },
  {
   "cell_type": "code",
   "execution_count": null,
   "metadata": {},
   "outputs": [],
   "source": [
    "## Problem 3\n",
    "def is_prime(n):\n",
    "    if n<=1:\n",
    "        return None\n",
    "    for t in range(2,n):\n",
    "        if n%t==0:\n",
    "            return False\n",
    "    return True\n",
    "\n"
   ]
  }
 ],
 "metadata": {
  "kernelspec": {
   "display_name": "Python 3",
   "language": "python",
   "name": "python3"
  },
  "language_info": {
   "codemirror_mode": {
    "name": "ipython",
    "version": 3
   },
   "file_extension": ".py",
   "mimetype": "text/x-python",
   "name": "python",
   "nbconvert_exporter": "python",
   "pygments_lexer": "ipython3",
   "version": "3.8.5"
  }
 },
 "nbformat": 4,
 "nbformat_minor": 4
}
