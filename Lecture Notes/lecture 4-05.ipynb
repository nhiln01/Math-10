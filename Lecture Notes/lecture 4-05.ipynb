{
 "cells": [
  {
   "cell_type": "markdown",
   "metadata": {},
   "source": [
    "# Expressions, Variables, Objects"
   ]
  },
  {
   "cell_type": "markdown",
   "metadata": {},
   "source": [
    "Lectures: focused on conceptual parts\n",
    "Discussions: logical and hone in on programming skills\n",
    "\n",
    "Last lecture examples: "
   ]
  },
  {
   "cell_type": "markdown",
   "metadata": {},
   "source": [
    "Object: *Everything is an object in Python!*\n",
    "\n",
    "3 most important things about objects in Python\n",
    "- identity\n",
    "- type\n",
    "- value"
   ]
  },
  {
   "cell_type": "markdown",
   "metadata": {},
   "source": [
    "### What is Identity\n",
    "The id() function returns an integer called identity; it's a build in function that gives a certain number or expression a code, and that code is what Python identifies the number or expression as\n",
    "\n",
    "It shows where, in your computer memory, does the number, function, or expression live in"
   ]
  },
  {
   "cell_type": "code",
   "execution_count": 6,
   "metadata": {},
   "outputs": [
    {
     "data": {
      "text/plain": [
       "140711538075488"
      ]
     },
     "execution_count": 6,
     "metadata": {},
     "output_type": "execute_result"
    }
   ],
   "source": [
    "id(3) # identity of interger 3"
   ]
  },
  {
   "cell_type": "code",
   "execution_count": 7,
   "metadata": {},
   "outputs": [
    {
     "data": {
      "text/plain": [
       "2068904307376"
      ]
     },
     "execution_count": 7,
     "metadata": {},
     "output_type": "execute_result"
    }
   ],
   "source": [
    "id(5.0) # identity of float 5"
   ]
  },
  {
   "cell_type": "code",
   "execution_count": 8,
   "metadata": {},
   "outputs": [
    {
     "data": {
      "text/plain": [
       "2068834944000"
      ]
     },
     "execution_count": 8,
     "metadata": {},
     "output_type": "execute_result"
    }
   ],
   "source": [
    "id(abs) # built-in functions have identities too"
   ]
  },
  {
   "cell_type": "code",
   "execution_count": 9,
   "metadata": {},
   "outputs": [
    {
     "data": {
      "text/plain": [
       "140711538075488"
      ]
     },
     "execution_count": 9,
     "metadata": {},
     "output_type": "execute_result"
    }
   ],
   "source": [
    "a = 3\n",
    "id(a) # this number should match with id(3)"
   ]
  },
  {
   "cell_type": "markdown",
   "metadata": {},
   "source": [
    "### Type and type()\n",
    "Shows built-in types from Python. Popular data packages have their own type too"
   ]
  },
  {
   "cell_type": "code",
   "execution_count": 10,
   "metadata": {},
   "outputs": [
    {
     "data": {
      "text/plain": [
       "int"
      ]
     },
     "execution_count": 10,
     "metadata": {},
     "output_type": "execute_result"
    }
   ],
   "source": [
    "type(3) # 3 is an integer"
   ]
  },
  {
   "cell_type": "code",
   "execution_count": 11,
   "metadata": {},
   "outputs": [
    {
     "data": {
      "text/plain": [
       "bool"
      ]
     },
     "execution_count": 11,
     "metadata": {},
     "output_type": "execute_result"
    }
   ],
   "source": [
    "type(True)"
   ]
  },
  {
   "cell_type": "code",
   "execution_count": 12,
   "metadata": {},
   "outputs": [
    {
     "data": {
      "text/plain": [
       "float"
      ]
     },
     "execution_count": 12,
     "metadata": {},
     "output_type": "execute_result"
    }
   ],
   "source": [
    "type(5.) # this is a float, in Python, floats and integers are different things"
   ]
  },
  {
   "cell_type": "code",
   "execution_count": 13,
   "metadata": {},
   "outputs": [
    {
     "data": {
      "text/plain": [
       "str"
      ]
     },
     "execution_count": 13,
     "metadata": {},
     "output_type": "execute_result"
    }
   ],
   "source": [
    "type('python') # string, can also be written with \"\""
   ]
  },
  {
   "cell_type": "code",
   "execution_count": 14,
   "metadata": {},
   "outputs": [
    {
     "data": {
      "text/plain": [
       "list"
      ]
     },
     "execution_count": 14,
     "metadata": {},
     "output_type": "execute_result"
    }
   ],
   "source": [
    "type([1,2,3])"
   ]
  },
  {
   "cell_type": "code",
   "execution_count": 15,
   "metadata": {},
   "outputs": [
    {
     "data": {
      "text/plain": [
       "builtin_function_or_method"
      ]
     },
     "execution_count": 15,
     "metadata": {},
     "output_type": "execute_result"
    }
   ],
   "source": [
    "type(abs)"
   ]
  },
  {
   "cell_type": "markdown",
   "metadata": {},
   "source": [
    "### Expression, Variable, Value, and Object\n",
    "Variables and Values here are similar to Matlab"
   ]
  },
  {
   "cell_type": "code",
   "execution_count": 16,
   "metadata": {},
   "outputs": [
    {
     "name": "stdout",
     "output_type": "stream",
     "text": [
      "2068872814064\n"
     ]
    },
    {
     "data": {
      "text/plain": [
       "str"
      ]
     },
     "execution_count": 16,
     "metadata": {},
     "output_type": "execute_result"
    }
   ],
   "source": [
    "string='python'\n",
    "print(id(string)) # identity of variable\n",
    "type(string) # type of variable"
   ]
  },
  {
   "cell_type": "markdown",
   "metadata": {},
   "source": [
    "When we execute *variable* = *value*, in Python, it digs deep into your computer memory space\n",
    "\n",
    "After running code: \n",
    "a=3\n",
    "b=a\n",
    "b=1\n",
    "\n",
    "- 2 possible mechanisms (models)\n",
    "    - Model 1 (variable (box)-value(ball)) (what happens in C or Matlab)\n",
    "        - a=3\n",
    "            - when you assign a value to a variable, it's like you're putting a ball into a box, so when you get the box out to use it, you know there is a ball in there\n",
    "            - we first establish variable into the memory (id1)(you put the box into the room)\n",
    "        - b=a\n",
    "            - b is a new box, you put the ball (3) into the new box, and then you put it into another room (memory, id2)\n",
    "        - b=1\n",
    "            - box b is still there, you're replacing the ball (3) with the ball (1)\n",
    "\n",
    "    - Model 2 (names (label, sticker) - object (ball)) (what happens in Python\n",
    "        - a=3\n",
    "            - a (sticker) is attached to 3 (ball) and the labeled ball is placed into the memory (id1)(room)\n",
    "        - b=a\n",
    "            - b (sticker) is attached to 3 (ball) and both a and b occupies 3, both a and b point the the same object, but only one memory space (id1) is open\n",
    "        - b=1\n",
    "            - another ball (1), meaning another space, the b sticker on 3 is deleted, and b is sticked onto 1, while a still remains on 3 (ball)\n",
    "\n",
    "NOTE: each object has its own allocated space in the memory"
   ]
  },
  {
   "cell_type": "markdown",
   "metadata": {},
   "source": [
    "In Python, variables are just the references to objects.\n",
    "- Instead of saying that we assign values to variables in python, perhaps it's more rigorous to say that we use variables to point toward objects with certain values.\n",
    "- In fact, it is even not the most accurate way to use the word \"variables\". The more appropriate word in Python might be \"names\" or \"identifiers\".\n",
    "    - In Python, it never functions like \"variables\", they work more as \"labels\" or \"names\" or \"identifiers\" of the values"
   ]
  },
  {
   "cell_type": "markdown",
   "metadata": {},
   "source": [
    "In Python\n",
    "- Every object has one identity, one type, and one value\n",
    "- Its identity or type cannot be changed once it is created\n",
    "- Its value can be changed depending on\n",
    "    - If it can be changed, it is called mutable (more flexible) (you can change it without affeting its identity)\n",
    "    - If it cannot be changed, it is called immutable (safer)\n",
    "\n",
    "[For beginners, mutable/immutable objects can easily lead to errors that are difficult to debug](https://florimond.dev/blog/articles/2018/08/python-mutable-defaults-are-the-source-of-all-evil/)\n",
    "\n",
    "Whether the object is mutable or not, it depends on its type\n",
    "- List, Dictionary, and Set are mutable;\n",
    "- Int, Float, String, Bool, Tuple ... are immutable\n",
    "- Numpy array is mutable (we'll go over it later)"
   ]
  },
  {
   "cell_type": "code",
   "execution_count": 17,
   "metadata": {},
   "outputs": [
    {
     "name": "stdout",
     "output_type": "stream",
     "text": [
      "140711538075488\n",
      "140711538075424\n"
     ]
    }
   ],
   "source": [
    "a=3\n",
    "print(id(a))\n",
    "a=1 # if you want to change the object a, you must create another object for the integer\n",
    "print(id(a)) # the object (a) is mutable, and the integer is immutable"
   ]
  },
  {
   "cell_type": "code",
   "execution_count": 18,
   "metadata": {},
   "outputs": [
    {
     "name": "stdout",
     "output_type": "stream",
     "text": [
      "2068904403712\n",
      "[0, 2, 3]\n",
      "2068904403712\n"
     ]
    }
   ],
   "source": [
    "a=[1,2,3]\n",
    "print(id(a))\n",
    "a[0]=0 # here, you only change a part of a and Python acknowledges that, leaving a as the same identity\n",
    "print(a) # identity of the list remains the same, but only the value of the first element changes\n",
    "print(id(a)) # a is mutable, it can be changed but its identity won't change."
   ]
  },
  {
   "cell_type": "code",
   "execution_count": 19,
   "metadata": {},
   "outputs": [
    {
     "name": "stdout",
     "output_type": "stream",
     "text": [
      "140711538075424\n",
      "140711538075392\n"
     ]
    }
   ],
   "source": [
    "a=1\n",
    "print(id(a)) # identity of a changes; for integers, it can never retain its identity while changing its value, unlike list\n",
    "a=0 # you must create another object, or risk the identity of a be different, allowing it to bind to another integer\n",
    "print(id(a))"
   ]
  },
  {
   "cell_type": "code",
   "execution_count": 20,
   "metadata": {},
   "outputs": [
    {
     "name": "stdout",
     "output_type": "stream",
     "text": [
      "2068904685760\n",
      "[0, 2, 3]\n",
      "2068904357568\n"
     ]
    }
   ],
   "source": [
    "a=[1,2,3]\n",
    "print(id(a))\n",
    "a=[0,2,3] # unlike other example, a now binds to a completely different object\n",
    "print(a) #to Python, it's a brand new list, and you rebinded a to different identity, id of a changes\n",
    "print(id(a))"
   ]
  },
  {
   "cell_type": "markdown",
   "metadata": {},
   "source": [
    "Shown above, depending on the situation, Lists can be mutable, but integers cannot be mutable"
   ]
  },
  {
   "cell_type": "code",
   "execution_count": 21,
   "metadata": {},
   "outputs": [
    {
     "name": "stdout",
     "output_type": "stream",
     "text": [
      "1000\n"
     ]
    }
   ],
   "source": [
    "a=1000\n",
    "b=a\n",
    "b=1\n",
    "print(a)"
   ]
  },
  {
   "cell_type": "code",
   "execution_count": 22,
   "metadata": {},
   "outputs": [
    {
     "name": "stdout",
     "output_type": "stream",
     "text": [
      "[1000, 1]\n"
     ]
    }
   ],
   "source": [
    "a=[1000,1]\n",
    "b=a\n",
    "b=[1,1]\n",
    "print(a)"
   ]
  },
  {
   "cell_type": "code",
   "execution_count": 23,
   "metadata": {},
   "outputs": [
    {
     "name": "stdout",
     "output_type": "stream",
     "text": [
      "[1, 1]\n"
     ]
    }
   ],
   "source": [
    "a=[1000,1]\n",
    "b=a\n",
    "b[0]=1 # by modifying, you change an element of a without changing its identity\n",
    "print(a)"
   ]
  },
  {
   "cell_type": "code",
   "execution_count": 24,
   "metadata": {},
   "outputs": [
    {
     "name": "stdout",
     "output_type": "stream",
     "text": [
      "[0, 2, 3]\n",
      "[1, 2, 3]\n"
     ]
    }
   ],
   "source": [
    "a=[1,2,3]\n",
    "b=a.copy() # by doing this, you create another object and b's identity isn't affect by changes made in a\n",
    "a[0]=0\n",
    "print(a)\n",
    "print(b)"
   ]
  },
  {
   "cell_type": "code",
   "execution_count": 25,
   "metadata": {},
   "outputs": [
    {
     "name": "stdout",
     "output_type": "stream",
     "text": [
      "2068904312128\n",
      "2068904352320\n"
     ]
    }
   ],
   "source": [
    "a=[1,2,3]\n",
    "print(id(a))\n",
    "b=[1,2,3]\n",
    "print(id(b)) # even if they have the same values in their lists, they have different identities"
   ]
  },
  {
   "cell_type": "code",
   "execution_count": 26,
   "metadata": {},
   "outputs": [
    {
     "name": "stdout",
     "output_type": "stream",
     "text": [
      "140711538075488\n",
      "140711538075488\n"
     ]
    }
   ],
   "source": [
    "a=3\n",
    "print(id(a))\n",
    "b=3 # number is smaller than 250 ish, Python saves (rare case)\n",
    "print(id(b)) \n",
    "# Python intentionally wants to save some memories, so for small numbers and small strings, they have the same identities"
   ]
  },
  {
   "cell_type": "code",
   "execution_count": 27,
   "metadata": {},
   "outputs": [
    {
     "name": "stdout",
     "output_type": "stream",
     "text": [
      "2068904707504\n",
      "2068904707312\n"
     ]
    }
   ],
   "source": [
    "a=3000\n",
    "print(id(a))\n",
    "b=3000\n",
    "print(id(b)) # for elements with same values, since they are assigned to different objects, they have different identities"
   ]
  }
 ],
 "metadata": {
  "kernelspec": {
   "display_name": "Python 3",
   "language": "python",
   "name": "python3"
  },
  "language_info": {
   "codemirror_mode": {
    "name": "ipython",
    "version": 3
   },
   "file_extension": ".py",
   "mimetype": "text/x-python",
   "name": "python",
   "nbconvert_exporter": "python",
   "pygments_lexer": "ipython3",
   "version": "3.8.5"
  }
 },
 "nbformat": 4,
 "nbformat_minor": 4
}
