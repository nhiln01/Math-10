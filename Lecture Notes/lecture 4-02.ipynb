{
 "cells": [
  {
   "cell_type": "markdown",
   "metadata": {},
   "source": [
    "# Introduction to Python"
   ]
  },
  {
   "cell_type": "markdown",
   "metadata": {},
   "source": [
    "## Why Python?\n",
    "\n",
    "### Python is popular!\n",
    "\n",
    "Matlab used to be one of the mainstream languages, but now Python has taken over that role for data science and computer science\n",
    "\n",
    "Measuring its popularity is in itself a data science problem!\n",
    "\n",
    "Some sources for data that helps us measure Python's popularity\n",
    "- [TIOBE](https://tiobe.com/tiobe-index/): Based on google search results\n",
    "    - depends on how many people are searching for this platform; how many people are looking up Python on google search engine\n",
    "- [PYPL PopularitY](https://pypl.github.io/PYPL.html): Based on google trends\n",
    "    - based on ranking; how much online courses and youtube tutorials that are being looked up\n",
    "    - focuses on beginners and what programs ppl are more likely to get started with (mostly Python)\n",
    "- [GitHut 2.0](https://madnight.github.io/githut/#/pull_requests/2020/2): Based on Github\n",
    "    - Based on what kind of programs people are using and uploading on Github, which is a platform that allows people to share their codes and collaborate and work on them\n",
    "    - towards more experienced users (JavaScript seems to be the most popular, Python comes at a 2nd place)\n",
    "    - MatLab (almost 0%), used by community of mathematicians and the platform is often expensive\n",
    "- [Redmonk](https://redmonk.com/sogrady/2020/07/27/language-rankings-6-20/): Based on Github+Stack Overflow\n",
    "    - compares popularity rank on Github with Stack Overflow\n",
    "    - Stack Overflow is a website to ask about programming languages\n",
    "    - scatterplot; shows a visual picture of the most popular languages in both platforms\n",
    "- [Kaggle](https://www.kaggle.com/kaggle-survey-2020): conducted a survey asking data scientists\n",
    "    - data includes the data scientists' gender, age, ethnicity, education, etc.\n",
    "    - mostly male, 23-29 age gap is most popular, master's degree, taking online courses, experience, pay rate, etc.\n",
    "\n",
    "### Python is good!\n",
    "\n",
    "Stable learning curve\n",
    "- [Entertaining cartoon to look at](https://github.com/Dobiasd/articles/blob/master/programming_language_learning_curves.md)\n",
    "\n",
    "Scalability of Computation (with help from other packages)\n",
    "- recommended: study data science with some other form of mathematics\n",
    "\n",
    "Useful packages:\n",
    "- Numpy: Scientific Computing\n",
    "- Pandas: Data Analysis and Manipulation\n",
    "- Scikit-Learn: Machine Learning\n",
    "- Matplotlib: Visualizing Functions/Datasets\n",
    "- Seaborn: Visualizing Statistical Data\n"
   ]
  },
  {
   "cell_type": "markdown",
   "metadata": {},
   "source": [
    "## What is Python?\n",
    "\n",
    "[Official Definition](https://www.python.org/doc/essays/blurb/): Python is an interpreted, object-oriented, high-level programming language with dynamic semantics.\n",
    "\n",
    "- 2 Types: interpreted and compiled\n",
    "    - Interpreted: we write something and we get an outcome (similar to Matlab where you'd write an equation and get an outcome)\n",
    "        - easier to do interactive\n",
    "    - Compiled: you finish other programming and compare it, then run it as a whole (C, C++, etc.)\n",
    "\n",
    "- Object-oriented: focus on objects in the beginning of the course\n",
    "\n",
    "Father of Python: [Guido van Rossum](https://gvanrossum.github.io/), see also the [history of python](https://en.wikipedia.org/wiki/History_of_Python).\n",
    "\n",
    "- Fond of animal names: Python, Anaconda, Pandas etc.\n",
    "\n",
    "The ZEN of python and to be pythonic.\n",
    "\n",
    "- pythonic: Python \"accent\" (sometimes, people would write a code sort of MatLab style, and they would say it has a Matlab accent; pythonic is just a way to say Python accent).\n",
    "\n",
    "- \"this\" is a package; the function is to show the Zen of Python (shown below)"
   ]
  },
  {
   "cell_type": "code",
   "execution_count": 1,
   "metadata": {},
   "outputs": [
    {
     "name": "stdout",
     "output_type": "stream",
     "text": [
      "The Zen of Python, by Tim Peters\n",
      "\n",
      "Beautiful is better than ugly.\n",
      "Explicit is better than implicit.\n",
      "Simple is better than complex.\n",
      "Complex is better than complicated.\n",
      "Flat is better than nested.\n",
      "Sparse is better than dense.\n",
      "Readability counts.\n",
      "Special cases aren't special enough to break the rules.\n",
      "Although practicality beats purity.\n",
      "Errors should never pass silently.\n",
      "Unless explicitly silenced.\n",
      "In the face of ambiguity, refuse the temptation to guess.\n",
      "There should be one-- and preferably only one --obvious way to do it.\n",
      "Although that way may not be obvious at first unless you're Dutch.\n",
      "Now is better than never.\n",
      "Although never is often better than *right* now.\n",
      "If the implementation is hard to explain, it's a bad idea.\n",
      "If the implementation is easy to explain, it may be a good idea.\n",
      "Namespaces are one honking great idea -- let's do more of those!\n"
     ]
    }
   ],
   "source": [
    "import this"
   ]
  },
  {
   "cell_type": "markdown",
   "metadata": {},
   "source": [
    "## Python vs Matlab\n",
    "\n",
    "view [this helpful video](https://realpython.com/matlab-vs-python/#syntax-differences-between-matlab-and-python)\n",
    "\n",
    "- Python index starts from 0. [Explanation here](https://www.cs.utexas.edu/users/EWD/transcriptions/EWD08xx/EWD831.html)"
   ]
  },
  {
   "cell_type": "code",
   "execution_count": 2,
   "metadata": {},
   "outputs": [
    {
     "name": "stdout",
     "output_type": "stream",
     "text": [
      "1\n",
      "3\n",
      "[3, 4, 5, 6, 7, 8]\n"
     ]
    }
   ],
   "source": [
    "array=[1,2,3] # create a list\n",
    "print(array[0]) # first element is 0, in matlab, we use array(1)\n",
    "print(array[-1]) # last element, in matlab we use array(end)\n",
    "print(list(range(3,9))) # notice that it gives vector from 3 to 8\n",
    "# it's easier to calculate number of elements.in this case, number of elements is 9-3=6 elements in the generated vector"
   ]
  },
  {
   "cell_type": "markdown",
   "metadata": {},
   "source": [
    "- Indentation. [Explanation here](https://web.archive.org/web/20070922223915/http://www.secnetix.de/~olli/Python/block_indentation.hawk)"
   ]
  },
  {
   "cell_type": "code",
   "execution_count": 3,
   "metadata": {},
   "outputs": [
    {
     "name": "stdout",
     "output_type": "stream",
     "text": [
      "Five is greater than two!\n"
     ]
    }
   ],
   "source": [
    "if 5>2:\n",
    "    print (\"Five is greater than two!\") # in Matlab we use if-end,in Python, make sure it's indented and we use {}"
   ]
  },
  {
   "cell_type": "markdown",
   "metadata": {},
   "source": [
    "## How to learn and use Python well\n",
    "### Resources\n",
    "- [Anaconda](https://www.anaconda.com/products/individual)\n",
    "- [Jupyter Notebook](https://jupyter.org/install)\n",
    "- Brief [guide](https://python.swaroopch.com/) to Python\n",
    "- [Tutorials](https://jakevdp.github.io/PythonDataScienceHandbook/) on Python Machine Learning\n",
    "- [UCI datasets](https://archive.ics.uci.edu/ml/index.php) and Kaggle\n",
    "- different resources available if you search Python on Github and clone different notebooks as needed"
   ]
  },
  {
   "cell_type": "code",
   "execution_count": 4,
   "metadata": {},
   "outputs": [
    {
     "name": "stdout",
     "output_type": "stream",
     "text": [
      "1000\n"
     ]
    }
   ],
   "source": [
    "a=1000\n",
    "b=a\n",
    "b=1\n",
    "print(a)"
   ]
  },
  {
   "cell_type": "code",
   "execution_count": 5,
   "metadata": {},
   "outputs": [
    {
     "name": "stdout",
     "output_type": "stream",
     "text": [
      "[1000, 1]\n"
     ]
    }
   ],
   "source": [
    "a=[1000,1]\n",
    "b=a\n",
    "b=[1,1]\n",
    "print(a)"
   ]
  },
  {
   "cell_type": "code",
   "execution_count": 7,
   "metadata": {},
   "outputs": [
    {
     "name": "stdout",
     "output_type": "stream",
     "text": [
      "[1, 1]\n"
     ]
    }
   ],
   "source": [
    "a=[1000,1]\n",
    "b=a\n",
    "b[0]=1\n",
    "print(a)"
   ]
  }
 ],
 "metadata": {
  "kernelspec": {
   "display_name": "Python 3",
   "language": "python",
   "name": "python3"
  },
  "language_info": {
   "codemirror_mode": {
    "name": "ipython",
    "version": 3
   },
   "file_extension": ".py",
   "mimetype": "text/x-python",
   "name": "python",
   "nbconvert_exporter": "python",
   "pygments_lexer": "ipython3",
   "version": "3.8.5"
  }
 },
 "nbformat": 4,
 "nbformat_minor": 4
}
