{
 "cells": [
  {
   "cell_type": "markdown",
   "metadata": {},
   "source": [
    "# Lecture 5 (continued)\n",
    "\n",
    "### Calling the Function\n",
    "When calling the functions, the arguments can be matched by position (normal argument) or by name (key word argument). We will omit the [more complicated cases](https://docs.python.org/3/tutorial/controlflow.html#special-parameters) in our course. Let's learn through this simple example."
   ]
  },
  {
   "cell_type": "code",
   "execution_count": 3,
   "metadata": {},
   "outputs": [],
   "source": [
    "def func(a,b,c=3,d=4):\n",
    "    print([a,b,c,d])"
   ]
  },
  {
   "cell_type": "code",
   "execution_count": 4,
   "metadata": {},
   "outputs": [
    {
     "name": "stdout",
     "output_type": "stream",
     "text": [
      "[1, 2, 3, 4]\n",
      "[1, 2, 3, 4]\n",
      "[1, 0, 0, 4]\n"
     ]
    }
   ],
   "source": [
    "func(1,2) # gives you arguments by their positions (a=1 and b=2)\n",
    "func(1,2,3,4) # gives you arguments for a, b, c, and d as (1,2,3,4)\n",
    "func(1,c=0,b=0) # a=1 (for a as first one), b=0 and c=0 (defined), d=4 (previously defined)"
   ]
  },
  {
   "cell_type": "markdown",
   "metadata": {},
   "source": [
    "### Argument Passing: Passing by *Object Reference* in Python\n",
    "\n",
    "In Matlab, the arguments are usually **passed by value** in the functions. However, Python functions **pass the arguments by object reference**. \n",
    "\n",
    "For simplicity, below we do not discuss the global variables here (As the famous saying goes, *global variables are evil in object-oriented languages*).\n",
    "\n",
    "In Python, suppose we have an object named ``obj_python`` that is passed to a function ``func(obj_func)``. What does the function do is create a new name (identifier) by ``obj_func = obj_python`` that points to the **same object** (instead of creating a new object!). All the statements within function are then executed with the name (identifier) ``obj_fun``, and the name ``obj_fun`` will be destroyed after calling the function. \n",
    "\n",
    "- For *mutable objects*, the modification with ``obj_fun`` inside the function may change the value of object, which is pointed by the name ``obj_python`` outside the function. \n",
    "- For *immutable objects*, since the value cannot be modified once the object is created, the function will not affect the object pointed by ``obj_python``.\n",
    "- That's why some people say in Python, the immutable objects are passed by values, while the mutable objects are passed by reference or pointer -- they are indeed the ''net effects''. In fact, these observations are the reflections of **passing by object reference** mechanism in Python."
   ]
  },
  {
   "cell_type": "code",
   "execution_count": 5,
   "metadata": {},
   "outputs": [],
   "source": [
    "def modify_list (mylist):\n",
    "    '''modify the first element of list'''\n",
    "    print(id(mylist))\n",
    "    mylist[0]=100 # note that we're not returning anything (or return None)\n",
    "    y=mylist[0] # this y is a local name & will be destroyed if we dont return it\n",
    "    # y is identified as 100, immutable and takes a different identity; has nothing to do with mylist"
   ]
  },
  {
   "cell_type": "code",
   "execution_count": 7,
   "metadata": {},
   "outputs": [
    {
     "name": "stdout",
     "output_type": "stream",
     "text": [
      "1555179277312\n",
      "1555179277312\n",
      "None\n",
      "[100, 2, 3]\n",
      "1555179277312\n"
     ]
    }
   ],
   "source": [
    "mylist=[1,2,3] # mylist points to this vector\n",
    "print(id(mylist))\n",
    "\n",
    "y=modify_list(mylist=mylist) # we call function & have other results printed\n",
    "# note: left mylist is the one in the function, and right mylist is the value we defined above\n",
    "# after mylist passes through the function, identity of mylist doesn't change bc it's pointing at the same vector\n",
    "\n",
    "print (y) # no return; y isn't given a value\n",
    "print(mylist)\n",
    "print(id(mylist)) # note, since only an element is defined, the identity of mylist doesn't change"
   ]
  },
  {
   "cell_type": "code",
   "execution_count": 9,
   "metadata": {},
   "outputs": [
    {
     "name": "stdout",
     "output_type": "stream",
     "text": [
      "1555179277248\n",
      "[100, 2, 3]\n",
      "1555179277248\n"
     ]
    }
   ],
   "source": [
    "mylist=[1,2,3]\n",
    "modify_list(mylist=mylist) # or you can just write mylist (refers to vector defined or 2nd mylist)\n",
    "print(mylist) # refers to vector defined\n",
    "print(id(mylist))"
   ]
  },
  {
   "cell_type": "markdown",
   "metadata": {},
   "source": [
    "In this case we're modifying the mutable objects in place (their identities do not change) like `sort ()` and `reverse ()` methods of `list` we did last lecture\n",
    "\n",
    "More examples here:"
   ]
  },
  {
   "cell_type": "code",
   "execution_count": 10,
   "metadata": {},
   "outputs": [],
   "source": [
    "def modify_list_complete(mylist):\n",
    "    ''' modify the list completely by creating a new one, without return'''\n",
    "    mylist = [100,2,3] # object [100,2,3] will be deleted because the return is none"
   ]
  },
  {
   "cell_type": "code",
   "execution_count": 11,
   "metadata": {},
   "outputs": [
    {
     "name": "stdout",
     "output_type": "stream",
     "text": [
      "1555179277056\n",
      "[1, 2, 3]\n",
      "1555179277056\n"
     ]
    }
   ],
   "source": [
    "mylist=[1,2,3]\n",
    "print(id(mylist))\n",
    "\n",
    "modify_list_complete(mylist=mylist)\n",
    "print(mylist)\n",
    "print(id(mylist))"
   ]
  },
  {
   "cell_type": "code",
   "execution_count": 12,
   "metadata": {},
   "outputs": [],
   "source": [
    "def modify_list_complete_new(mylist):\n",
    "    '''modify the list completely by creating a new one, and return'''\n",
    "    mylist = [100,2,3] \n",
    "    return mylist # vector [100,2,3] won't just be deleted bc it was returned"
   ]
  },
  {
   "cell_type": "code",
   "execution_count": 14,
   "metadata": {},
   "outputs": [
    {
     "name": "stdout",
     "output_type": "stream",
     "text": [
      "1555179363136\n",
      "[1, 2, 3]\n",
      "[100, 2, 3]\n",
      "1555179363136\n",
      "1555179363840\n"
     ]
    }
   ],
   "source": [
    "mylist = [1,2,3]\n",
    "print(id(mylist))\n",
    "\n",
    "y = modify_list_complete_new(mylist = mylist)\n",
    "print(mylist)\n",
    "print(y)\n",
    "print(id(mylist))\n",
    "print(id(y))"
   ]
  },
  {
   "cell_type": "code",
   "execution_count": 15,
   "metadata": {},
   "outputs": [
    {
     "name": "stdout",
     "output_type": "stream",
     "text": [
      "1\n",
      "[1000, 2, 3]\n",
      "1\n",
      "[1, 2, 3]\n"
     ]
    }
   ],
   "source": [
    "def modifier(myint, mylist): \n",
    "    '''modify the immutable integer and mutable list simultaneously'''\n",
    "    myint = 1000\n",
    "    mylist[0] = 1000\n",
    "\n",
    "    \n",
    "a = 1\n",
    "b = [1,2,3]\n",
    "\n",
    "modifier(a,b) # a=myint, b=mylist\n",
    "print(a) # remains as 1, function didn't return anything therefore object is lost\n",
    "print(b) # immutable so its elements can be modified; b = [1000,2,3]\n",
    "\n",
    "a = 1\n",
    "b = [1,2,3]\n",
    "\n",
    "modifier(a,b.copy())\n",
    "print(a) # a won't be changed\n",
    "print(b) # b won't be changed, b.copy is just a copy of b itself, and not b itself\n",
    "# b.copy will be lost bc it wasn't returned"
   ]
  },
  {
   "cell_type": "markdown",
   "metadata": {},
   "source": [
    "**Take-home message**: Don’t change mutable arguments in Python functions unless you intend to do it. This is something really different with Matlab!"
   ]
  },
  {
   "cell_type": "markdown",
   "metadata": {},
   "source": [
    "### Lambda Function\n",
    "\n",
    "Lambda function provides a convenient way for defining simple functions. Despite its simplicity, [Guido Van Rossum used to consider removing it in Python 3](https://philip-trauner.me/blog/post/python-quirks-lambdas)."
   ]
  },
  {
   "cell_type": "code",
   "execution_count": null,
   "metadata": {},
   "outputs": [],
   "source": [
    "f_square = lambda x:x*x\n",
    "# function name = lambda input: output\n",
    "\n",
    "mylist=list(range(10))\n",
    "mylist_square= [f_square(x) for x in mylist]\n",
    "print (mylist_square)"
   ]
  }
 ],
 "metadata": {
  "kernelspec": {
   "display_name": "Python 3",
   "language": "python",
   "name": "python3"
  },
  "language_info": {
   "codemirror_mode": {
    "name": "ipython",
    "version": 3
   },
   "file_extension": ".py",
   "mimetype": "text/x-python",
   "name": "python",
   "nbconvert_exporter": "python",
   "pygments_lexer": "ipython3",
   "version": "3.8.5"
  }
 },
 "nbformat": 4,
 "nbformat_minor": 4
}
