{
 "cells": [
  {
   "cell_type": "markdown",
   "metadata": {
    "slideshow": {
     "slide_type": "slide"
    }
   },
   "source": [
    "# Lecture 6 Class and Modules (con't)"
   ]
  },
  {
   "cell_type": "markdown",
   "metadata": {
    "slideshow": {
     "slide_type": "slide"
    }
   },
   "source": [
    "### Special (Magic) Methods\n",
    "\n",
    "Here's the magic: by merely changing the function name, we can realize our goal!"
   ]
  },
  {
   "cell_type": "code",
   "execution_count": 2,
   "metadata": {
    "slideshow": {
     "slide_type": "fragment"
    }
   },
   "outputs": [],
   "source": [
    "class VectorV3:\n",
    "    '''define the vector'''  # this is the document string\n",
    "    dim = 2   # this is the attribute\n",
    "    \n",
    "    # starting the functions with double underscores (dunders) in Python\n",
    "    def __init__(self, x=0.0, y=0.0):  # any method in Class requires the first parameter to be self!\n",
    "        '''initialize the vector by providing x and y coordinate'''\n",
    "        self.x = x\n",
    "        self.y = y\n",
    "        \n",
    "    def norm(self): \n",
    "        '''calculate the norm of vector'''\n",
    "        return math.sqrt(self.x**2+self.y**2)\n",
    "    \n",
    "    # we replaced vector_sum with __add__, and that's it\n",
    "    def __add__ (self, other):\n",
    "        '''calculate the vector sum of two vectors'''\n",
    "        return VectorV3(self.x + other.x, self.y + other.y)\n",
    "    \n",
    "    # we replaced show_coordinate with __repr__\n",
    "    def __repr__(self):   #special method of string representation\n",
    "        '''display the coordinates of the vector'''\n",
    "        return 'Vector(%r, %r)' % (self.x, self.y)\n",
    "    \n",
    "    # by changing the names, you can use + sign and use 'print'"
   ]
  },
  {
   "cell_type": "code",
   "execution_count": 3,
   "metadata": {
    "slideshow": {
     "slide_type": "fragment"
    }
   },
   "outputs": [
    {
     "name": "stdout",
     "output_type": "stream",
     "text": [
      "Help on class VectorV3 in module __main__:\n",
      "\n",
      "class VectorV3(builtins.object)\n",
      " |  VectorV3(x=0.0, y=0.0)\n",
      " |  \n",
      " |  define the vector\n",
      " |  \n",
      " |  Methods defined here:\n",
      " |  \n",
      " |  __add__(self, other)\n",
      " |      calculate the vector sum of two vectors\n",
      " |  \n",
      " |  __init__(self, x=0.0, y=0.0)\n",
      " |      initialize the vector by providing x and y coordinate\n",
      " |  \n",
      " |  __repr__(self)\n",
      " |      display the coordinates of the vector\n",
      " |  \n",
      " |  norm(self)\n",
      " |      calculate the norm of vector\n",
      " |  \n",
      " |  ----------------------------------------------------------------------\n",
      " |  Data descriptors defined here:\n",
      " |  \n",
      " |  __dict__\n",
      " |      dictionary for instance variables (if defined)\n",
      " |  \n",
      " |  __weakref__\n",
      " |      list of weak references to the object (if defined)\n",
      " |  \n",
      " |  ----------------------------------------------------------------------\n",
      " |  Data and other attributes defined here:\n",
      " |  \n",
      " |  dim = 2\n",
      "\n"
     ]
    }
   ],
   "source": [
    "help(VectorV3)"
   ]
  },
  {
   "cell_type": "code",
   "execution_count": 4,
   "metadata": {
    "slideshow": {
     "slide_type": "fragment"
    }
   },
   "outputs": [],
   "source": [
    "v1 = VectorV3(1.0,2.0)\n",
    "v2 = VectorV3(2.0,3.0)"
   ]
  },
  {
   "cell_type": "code",
   "execution_count": 5,
   "metadata": {
    "slideshow": {
     "slide_type": "fragment"
    }
   },
   "outputs": [
    {
     "data": {
      "text/plain": [
       "'Vector(3.0, 5.0)'"
      ]
     },
     "execution_count": 5,
     "metadata": {},
     "output_type": "execute_result"
    }
   ],
   "source": [
    "v3 = v1.__add__(v2) # just call special methods as ordinary methods\n",
    "# this allows you to tell python that you wanna use +, since __add__ in python knowledge is +\n",
    "v3.__repr__()"
   ]
  },
  {
   "cell_type": "code",
   "execution_count": 6,
   "metadata": {
    "slideshow": {
     "slide_type": "fragment"
    }
   },
   "outputs": [
    {
     "data": {
      "text/plain": [
       "Vector(3.0, 5.0)"
      ]
     },
     "execution_count": 6,
     "metadata": {},
     "output_type": "execute_result"
    }
   ],
   "source": [
    "v1 + v2 # here is the point of using special methods!"
   ]
  },
  {
   "cell_type": "code",
   "execution_count": 7,
   "metadata": {
    "slideshow": {
     "slide_type": "fragment"
    }
   },
   "outputs": [
    {
     "name": "stdout",
     "output_type": "stream",
     "text": [
      "Vector(3.0, 5.0)\n"
     ]
    }
   ],
   "source": [
    "print(v3) # this is possible bc of __repr__ method"
   ]
  },
  {
   "cell_type": "markdown",
   "metadata": {
    "slideshow": {
     "slide_type": "fragment"
    }
   },
   "source": [
    "Special methods are just like VIP admissions to take full use of the built-in operators in Python. With other special methods, you can even get elements by index `v3[0]`, or iterate through the object you created. For more advanced usage, you can [see here](https://rszalski.github.io/magicmethods/)."
   ]
  },
  {
   "cell_type": "markdown",
   "metadata": {},
   "source": [
    "### (Optional) More Comments about `__repr__()` and `__str__()`\n",
    "\n",
    "These are all the methods to display some strings about the object. An obvious difference is that when you directly **run** (evaluate) the object in code cell, it will execute `__repr__`, and when you **print** the object, it will first execute `__str__`. If `__str__` is not defined, then when calling `print`, the `__repr__` will be executed, but not vice versa. For more information, see the discussion [here](https://stackoverflow.com/questions/1436703/what-is-the-difference-between-str-and-repr)."
   ]
  },
  {
   "cell_type": "code",
   "execution_count": 8,
   "metadata": {},
   "outputs": [],
   "source": [
    "class VectorV3_1:\n",
    "    '''define the vector'''  # this is the document string\n",
    "    dim = 2   # this is the attribute\n",
    "    \n",
    "    def __init__(self, x=0.0, y=0.0):  # any method in Class requires the first parameter to be self!\n",
    "        '''initialize the vector by providing x and y coordinate'''\n",
    "        self.x = x\n",
    "        self.y = y\n",
    "    \n",
    "    def __repr__(self):   #special method of string representation\n",
    "        '''display the coordinates of the vector'''\n",
    "        return 'repr: Vector(%r, %r)' % (self.x, self.y)\n",
    "    # represents the object itself. for example, if you put v3 Shift+Enter, then it'll show v3\n",
    "    # if __str__ is not defined, then 'print(v3)' would work for __repr__ too\n",
    "    \n",
    "    def __str__(self):   #special method of string representation\n",
    "        '''display the coordinates of the vector'''\n",
    "        return 'str: vector[%r, %r]' % (self.x, self.y)\n",
    "    # represents 'print'. for example, if you put print(v3) then the value of v3 would print\n",
    "    # however, if __repr__ is not defined, you cannot run v3 by itself"
   ]
  },
  {
   "cell_type": "code",
   "execution_count": 9,
   "metadata": {},
   "outputs": [],
   "source": [
    "type(VectorV3_1) # any class is a type type\n",
    "# but type([1.0,2.0]) is a list\n",
    "v1 = VectorV3_1(1.0,2.0)\n",
    "# you should define the vector as v1=VectorV3_1(2,3), and do v1.__repr__() when calling upon the function"
   ]
  },
  {
   "cell_type": "code",
   "execution_count": 10,
   "metadata": {},
   "outputs": [
    {
     "data": {
      "text/plain": [
       "repr: Vector(1.0, 2.0)"
      ]
     },
     "execution_count": 10,
     "metadata": {},
     "output_type": "execute_result"
    }
   ],
   "source": [
    "v1 # directly call in cell code, or from repr() function"
   ]
  },
  {
   "cell_type": "code",
   "execution_count": 11,
   "metadata": {},
   "outputs": [
    {
     "name": "stdout",
     "output_type": "stream",
     "text": [
      "str: vector[1.0, 2.0]\n"
     ]
    }
   ],
   "source": [
    "print(v1) "
   ]
  },
  {
   "cell_type": "markdown",
   "metadata": {},
   "source": [
    "Example given in class\n",
    "     \n",
    "     import math\n",
    "     class Circle:\n",
    "        '''this is a circle class'''\n",
    "        def __init__(self,r):\n",
    "            self.radius=r\n",
    "    \n",
    "        def area(self):\n",
    "            '''computes area of given circle'''\n",
    "            s=math.pi* self.radius**2\n",
    "            return s\n",
    "        def __repr__(self):\n",
    "            return \"This is a circle of radius\" + str(self.radius)"
   ]
  },
  {
   "cell_type": "markdown",
   "metadata": {},
   "source": [
    "Then the following are defined from the example stated above\n",
    "\n",
    "`c1 = Circle(r=1)`\n",
    "\n",
    "`area = c1.area ()`\n",
    "\n",
    "`print (area)` gives you the area of the circle with radius 1, which is pi\n",
    "\n",
    "Here, don't forget to call the function and use ()\n",
    "\n",
    "You can also write that as `Circle.area(c1)`, but it's recommended that `c1.area()` is used\n",
    "\n",
    "`c1` gives you result that says `This is a circle of radius 1`"
   ]
  },
  {
   "cell_type": "markdown",
   "metadata": {},
   "source": [
    "Now, consider this function\n",
    "     \n",
    "     import math\n",
    "     class CircleV1:\n",
    "        '''this is a circle class'''\n",
    "        def __init__(self,r):\n",
    "            self.radius=r\n",
    "    \n",
    "        def compute_area(self):\n",
    "            '''computes area of given circle'''\n",
    "            s=math.pi* self.radius**2\n",
    "            self.area = s\n",
    "            \n",
    "        def __repr__(self):\n",
    "            return \"This is a circle of radius\" + str(self.radius)"
   ]
  },
  {
   "cell_type": "markdown",
   "metadata": {},
   "source": [
    "Notice, the only thing that changed is the area function, instead of returning a value for the area, we're assigning an attribute to that function\n",
    "\n",
    "`v2 = CircleV1(2)`\n",
    "\n",
    "Instead of doing this, we an also write `v2.radius = 2`\n",
    "\n",
    "`v2.compute_area()` notice that this funtion has no return value, so we're not going to get anything\n",
    "\n",
    "If we try to see attribute of v2 by doing `dir(v2)`, we will see that `area` is one of the attributes!\n",
    "\n",
    "So, `v2.area` will give us the area of the circle with radius 2, which is 4*pi"
   ]
  },
  {
   "cell_type": "markdown",
   "metadata": {
    "slideshow": {
     "slide_type": "slide"
    }
   },
   "source": [
    "### Inheritance"
   ]
  },
  {
   "cell_type": "markdown",
   "metadata": {
    "slideshow": {
     "slide_type": "fragment"
    }
   },
   "source": [
    "Now we want to add another scalar production method to Vector, but we're tired of rewriting all the other methods. A good way is to create new Class VectorV4 (Child Class) by inheriting from VectorV3 (Parent Class) that we have already defined."
   ]
  },
  {
   "cell_type": "code",
   "execution_count": 12,
   "metadata": {
    "slideshow": {
     "slide_type": "fragment"
    }
   },
   "outputs": [],
   "source": [
    "class VectorV4(VectorV3): # Note the class VectorV3 in parentheses here\n",
    "    # this allows us to use everything that has already been defined in VectorV3, and update it with a new function here\n",
    "    '''define the vector'''  # this is the document string\n",
    "    def __mul__(self, scalar):\n",
    "        '''calculate the scalar product'''\n",
    "        return VectorV4(self.x * scalar, self.y * scalar)"
   ]
  },
  {
   "cell_type": "code",
   "execution_count": 42,
   "metadata": {
    "slideshow": {
     "slide_type": "fragment"
    }
   },
   "outputs": [
    {
     "name": "stdout",
     "output_type": "stream",
     "text": [
      "Help on class VectorV4 in module __main__:\n",
      "\n",
      "class VectorV4(VectorV3)\n",
      " |  VectorV4(x=0.0, y=0.0)\n",
      " |  \n",
      " |  define the vector\n",
      " |  \n",
      " |  Method resolution order:\n",
      " |      VectorV4\n",
      " |      VectorV3\n",
      " |      builtins.object\n",
      " |  \n",
      " |  Methods defined here:\n",
      " |  \n",
      " |  __mul__(self, scalar)\n",
      " |      calculate the scalar product\n",
      " |  \n",
      " |  ----------------------------------------------------------------------\n",
      " |  Methods inherited from VectorV3:\n",
      " |  \n",
      " |  __add__(self, other)\n",
      " |      calculate the vector sum of two vectors\n",
      " |  \n",
      " |  __init__(self, x=0.0, y=0.0)\n",
      " |      initialize the vector by providing x and y coordinate\n",
      " |  \n",
      " |  __repr__(self)\n",
      " |      display the coordinates of the vector\n",
      " |  \n",
      " |  norm(self)\n",
      " |      calculate the norm of vector\n",
      " |  \n",
      " |  ----------------------------------------------------------------------\n",
      " |  Data descriptors inherited from VectorV3:\n",
      " |  \n",
      " |  __dict__\n",
      " |      dictionary for instance variables (if defined)\n",
      " |  \n",
      " |  __weakref__\n",
      " |      list of weak references to the object (if defined)\n",
      " |  \n",
      " |  ----------------------------------------------------------------------\n",
      " |  Data and other attributes inherited from VectorV3:\n",
      " |  \n",
      " |  dim = 2\n",
      "\n"
     ]
    }
   ],
   "source": [
    "help(VectorV4)"
   ]
  },
  {
   "cell_type": "code",
   "execution_count": 13,
   "metadata": {
    "slideshow": {
     "slide_type": "fragment"
    }
   },
   "outputs": [],
   "source": [
    "v1 = VectorV4(1.0,2.0)\n",
    "v2 = VectorV4(2.0,3.0)"
   ]
  },
  {
   "cell_type": "code",
   "execution_count": 14,
   "metadata": {
    "slideshow": {
     "slide_type": "fragment"
    }
   },
   "outputs": [
    {
     "data": {
      "text/plain": [
       "Vector(3.0, 5.0)"
      ]
     },
     "execution_count": 14,
     "metadata": {},
     "output_type": "execute_result"
    }
   ],
   "source": [
    "v1+v2"
   ]
  },
  {
   "cell_type": "code",
   "execution_count": 15,
   "metadata": {
    "slideshow": {
     "slide_type": "fragment"
    }
   },
   "outputs": [
    {
     "data": {
      "text/plain": [
       "Vector(2.0, 4.0)"
      ]
     },
     "execution_count": 15,
     "metadata": {},
     "output_type": "execute_result"
    }
   ],
   "source": [
    "v1*2"
   ]
  },
  {
   "cell_type": "markdown",
   "metadata": {},
   "source": [
    "## Modules and Packages\n",
    "\n"
   ]
  },
  {
   "cell_type": "markdown",
   "metadata": {},
   "source": [
    "In Python, Functions (plus Classes, Variables) are contained in Modules (usually downloaded as `.py`), and Modules are organized in directories of Packages. In fact, Modules are also objects in Python!"
   ]
  },
  {
   "cell_type": "markdown",
   "metadata": {},
   "source": [
    "Now we have the `Vector.py` file in the folder. When we import the module, the interpreter will create a name `Vector` pointing to the module object. The functions/classes/variables defined in the module can be called with `Vector.XXX`, i.e. they are in the **namespace** of `Vector` (can be seen through `dir`).\n",
    "\n",
    "Modules help organize different functions & attributes together, so you may  not confused them with other functions and variables if the names are the same.\n",
    "\n",
    "Of course, the (annoying) rules of object assignment (be careful about changing mutable objects even in modules) in Python still applies, but we won't go deep in this course."
   ]
  },
  {
   "cell_type": "markdown",
   "metadata": {},
   "source": [
    "This is module `Vector.py` that was shown in class\n",
    "\n",
    "    class VectorV5:\n",
    "        '''define the vector'''\n",
    "        dim=2\n",
    "        \n",
    "        def __init__(self,x=0.0,y=0,0):\n",
    "            '''initialize the vector by providing x and y coordinates\n",
    "            self.x=x\n",
    "            self.y=y\n",
    "        \n",
    "        def norm (self):\n",
    "            '''calculate the norm of vector'''\n",
    "            return math.sqrt(self.x**2 + self.y**2)\n",
    "            \n",
    "        def __add__(self,other):\n",
    "            '''calculate the sum of two vectors'''\n",
    "            return VectorV5(self.x + other.x, self.y + other.y)\n",
    "            \n",
    "        def __repr__(self):\n",
    "            '''display the coordinates of the vector'''\n",
    "            return 'Vector(%r, %r)' %(self.x,self.y)\n",
    "            \n",
    "            \n",
    "    string = 'Python'\n",
    "    def print_hello():\n",
    "        print(\"Hello\")"
   ]
  },
  {
   "cell_type": "code",
   "execution_count": 18,
   "metadata": {},
   "outputs": [
    {
     "name": "stdout",
     "output_type": "stream",
     "text": [
      "<class 'module'>\n"
     ]
    },
    {
     "data": {
      "text/plain": [
       "['VectorV5',\n",
       " '__builtins__',\n",
       " '__cached__',\n",
       " '__doc__',\n",
       " '__file__',\n",
       " '__loader__',\n",
       " '__name__',\n",
       " '__package__',\n",
       " '__spec__',\n",
       " 'print_hello',\n",
       " 'string']"
      ]
     },
     "execution_count": 18,
     "metadata": {},
     "output_type": "execute_result"
    }
   ],
   "source": [
    "import Vector\n",
    "print(type(Vector))\n",
    "dir(Vector) # 'attributes' in the module Vector - note the variables/functions we have defined in the .py file are here!"
   ]
  },
  {
   "cell_type": "code",
   "execution_count": 19,
   "metadata": {},
   "outputs": [
    {
     "data": {
      "text/plain": [
       "'Python'"
      ]
     },
     "execution_count": 19,
     "metadata": {},
     "output_type": "execute_result"
    }
   ],
   "source": [
    "Vector.string"
   ]
  },
  {
   "cell_type": "code",
   "execution_count": 20,
   "metadata": {},
   "outputs": [
    {
     "name": "stdout",
     "output_type": "stream",
     "text": [
      "Hello\n"
     ]
    }
   ],
   "source": [
    "Vector.print_hello() # don't forget () when calling on a function"
   ]
  },
  {
   "cell_type": "code",
   "execution_count": 51,
   "metadata": {},
   "outputs": [
    {
     "data": {
      "text/plain": [
       "Vector(1.0, 2.0)"
      ]
     },
     "execution_count": 51,
     "metadata": {},
     "output_type": "execute_result"
    }
   ],
   "source": [
    "v5 = Vector.VectorV5(1.0,2.0)\n",
    "v5"
   ]
  },
  {
   "cell_type": "markdown",
   "metadata": {},
   "source": [
    "Other different ways to import module:"
   ]
  },
  {
   "cell_type": "code",
   "execution_count": 21,
   "metadata": {},
   "outputs": [
    {
     "data": {
      "text/plain": [
       "'Python'"
      ]
     },
     "execution_count": 21,
     "metadata": {},
     "output_type": "execute_result"
    }
   ],
   "source": [
    "import Vector as vc # create a name vc point to the module Vector.py; \n",
    "# all the functions will start with vc. - you know where they are from!\n",
    "vc.string"
   ]
  },
  {
   "cell_type": "code",
   "execution_count": 53,
   "metadata": {},
   "outputs": [
    {
     "name": "stdout",
     "output_type": "stream",
     "text": [
      "Hello\n"
     ]
    }
   ],
   "source": [
    "from Vector import print_hello # may cause some name conflicts if write larger programs\n",
    "print_hello() # where does this print_hello come from ? it may take some time to figure out..."
   ]
  },
  {
   "cell_type": "markdown",
   "metadata": {},
   "source": [
    "It's totally possible that different modules (packages) contain same names. Some problems may happen if we try the from...import way. That's why the first way (import or import as) is always recommended. The last package imported will override the previous ones"
   ]
  },
  {
   "cell_type": "code",
   "execution_count": 54,
   "metadata": {},
   "outputs": [
    {
     "name": "stdout",
     "output_type": "stream",
     "text": [
      "-1.0\n",
      "-1.0\n"
     ]
    }
   ],
   "source": [
    "import math \n",
    "import numpy as np\n",
    "print(math.cos(math.pi))# eveything is clear -- there won't be any confusions\n",
    "print(np.cos(np.pi))# eveything is clear -- there won't be any confusions"
   ]
  },
  {
   "cell_type": "code",
   "execution_count": 55,
   "metadata": {},
   "outputs": [
    {
     "data": {
      "text/plain": [
       "'Python'"
      ]
     },
     "execution_count": 55,
     "metadata": {},
     "output_type": "execute_result"
    }
   ],
   "source": [
    "from Vector import * # Be careful about import everything -- may cause serious name conflicts!!!\n",
    "string # if you only import Vector, you'd have to use Vector.string to get the same result"
   ]
  }
 ],
 "metadata": {
  "kernelspec": {
   "display_name": "Python 3",
   "language": "python",
   "name": "python3"
  },
  "language_info": {
   "codemirror_mode": {
    "name": "ipython",
    "version": 3
   },
   "file_extension": ".py",
   "mimetype": "text/x-python",
   "name": "python",
   "nbconvert_exporter": "python",
   "pygments_lexer": "ipython3",
   "version": "3.8.5"
  }
 },
 "nbformat": 4,
 "nbformat_minor": 4
}
