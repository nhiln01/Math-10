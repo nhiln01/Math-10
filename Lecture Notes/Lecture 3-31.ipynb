{
 "cells": [
  {
   "cell_type": "markdown",
   "metadata": {},
   "source": [
    "# Software Preparation"
   ]
  },
  {
   "cell_type": "markdown",
   "metadata": {},
   "source": [
    "## Basics of Git\n",
    "Github: open tool to store & share codes; based on Git, a basic command tool\n",
    "Github Desktop: download it on laptop! It helps with the process of transporting files from Github repository to the drive\n",
    "\n",
    "#### Clone\n",
    "Clone:allows you to download repository onto your own computer & allow it to update when repository is updated\n",
    "    To do that: Github desktop --> Add (sidebar) --> Clone repository --> URL --> copy & paste URL of desired repository\n",
    "    \n",
    "#### Fetch and Pull\n",
    "Fetch: allows you to pick up any changes made to the repository\n",
    "    To do that: Github desktop --> Fetch origin (header bar, right side) (NOTE: sometimes, this is automatically done for you\n",
    "\n",
    "Pull: allows you to download the changes into your computer\n",
    "    To do that: Github desktop --> Pull origin (header bar, right side), works after Fetch\n",
    "    \n",
    "#### Commit and Push\n",
    "Commit: allows you to record your actions and what you have done to your repository\n",
    "\n",
    "Push: allows you to upload changes/updates you've made to your repository\n",
    "\n",
    "Commit & Push: First, when you create a new file from your computer, record that change and commit (ex. if you created a file for homework 1, put 'created hw1' or something similar, and commit. Then, click Push origin (header bar, right side, where you would usually see Fetch origin or Pull origin)\n"
   ]
  },
  {
   "cell_type": "markdown",
   "metadata": {},
   "source": [
    "## Jupyter Notebook\n",
    "\n",
    "You can just open an existing Jupyter notebook file (from Github folder or anywhere in your computer) after launching Jupyter Notebook from Anaconda Navigator\n",
    "- you can navigate Jupyter Notebook, which contains folder of files within your \n",
    "\n",
    "#### Creating a New Notebook\n",
    "\n",
    "Pick the desired location (folder) --> New (top right) --> Python 3"
   ]
  },
  {
   "cell_type": "markdown",
   "metadata": {},
   "source": [
    "### Cells\n",
    "- building blocks within a Jupyter Notebook\n",
    "- has 2 types: markdown and code\n",
    "\n",
    "#### Markdown\n",
    "- to write text, equations, etc.\n",
    "\n",
    "To edit a markdown cell, click on it and press Enter, or just double click the cell\n",
    " '#' signifies the importance of the heading\n",
    " '#' is heading 1, '##' is heading 2, etc.\n",
    " \n",
    "'Ctrl' and Enter to evaluate the cell, or 'Shift' and Enter to evaluae the cell, and it puts your cursor in the next cell\n",
    "\n",
    "Bold text  **text**\n",
    "Italic text *text*\n",
    "Equation within line $equation$\n",
    "    - use {} instead of () (ex. we write x^{2} instead of x^(2))   \n",
    "Equation on separate line: text\n",
    "$$equation$$\n",
    "\n",
    "#### Code\n",
    "- to write & execute Python codes\n",
    "\n",
    "You can write multiple codes in one cell and evaluate them all at once\n",
    "Evaluate cells: same as Markdown cells\n",
    "Use # to comment within codes\n",
    "Strings: use both \"\" and ''\n",
    "\n",
    "example:"
   ]
  },
  {
   "cell_type": "code",
   "execution_count": 6,
   "metadata": {},
   "outputs": [
    {
     "name": "stdout",
     "output_type": "stream",
     "text": [
      "Hello World\n"
     ]
    }
   ],
   "source": [
    "print('Hello World')"
   ]
  },
  {
   "cell_type": "markdown",
   "metadata": {},
   "source": [
    "**Cells have 2 modes: command and edit**\n",
    "\n",
    "#### Command mode\n",
    "- Globally control each cell (ex. insert more cells, changing cell type, etc.) \n",
    "- Color blue on the left side\n",
    "- To enter command mode: click Esc\n",
    "\n",
    "Keyboard shortcuts\n",
    "- Change cell type: \n",
    "    - Markdown to code: Y\n",
    "    - Code to markdown: M\n",
    "- Insert cells:\n",
    "    - Above: A\n",
    "    - Below: B\n",
    "- Delete cells: DD\n",
    "- Undo delete cell: Z\n",
    "- Move up and down between cells: K(up), J(down)\n",
    "\n",
    "#### Edit mode\n",
    "- Edit content inside cell (green on the left side & pencil icon on top right)\n",
    "- To enter this: double click cell or select cell  & press Enter"
   ]
  },
  {
   "cell_type": "markdown",
   "metadata": {},
   "source": [
    "#### Math operations\n",
    "- takes place in code cells\n",
    "\n",
    "+: addition\n",
    "-: subtraction\n",
    "'* : multiplication\n",
    "** : exponential\n",
    "/: float division (gives decimal answer)\n",
    "//: integer division (gives integer answer)\n",
    "%: modulo (gives numerator to fraction after integer\n",
    "\n",
    "Examples"
   ]
  },
  {
   "cell_type": "code",
   "execution_count": 7,
   "metadata": {},
   "outputs": [
    {
     "data": {
      "text/plain": [
       "8"
      ]
     },
     "execution_count": 7,
     "metadata": {},
     "output_type": "execute_result"
    }
   ],
   "source": [
    "5+3"
   ]
  },
  {
   "cell_type": "code",
   "execution_count": 8,
   "metadata": {},
   "outputs": [
    {
     "data": {
      "text/plain": [
       "2"
      ]
     },
     "execution_count": 8,
     "metadata": {},
     "output_type": "execute_result"
    }
   ],
   "source": [
    "5-3"
   ]
  },
  {
   "cell_type": "code",
   "execution_count": 9,
   "metadata": {},
   "outputs": [
    {
     "data": {
      "text/plain": [
       "15"
      ]
     },
     "execution_count": 9,
     "metadata": {},
     "output_type": "execute_result"
    }
   ],
   "source": [
    "5*3"
   ]
  },
  {
   "cell_type": "code",
   "execution_count": 10,
   "metadata": {},
   "outputs": [
    {
     "data": {
      "text/plain": [
       "1.6666666666666667"
      ]
     },
     "execution_count": 10,
     "metadata": {},
     "output_type": "execute_result"
    }
   ],
   "source": [
    "5/3"
   ]
  },
  {
   "cell_type": "code",
   "execution_count": 11,
   "metadata": {},
   "outputs": [
    {
     "data": {
      "text/plain": [
       "1"
      ]
     },
     "execution_count": 11,
     "metadata": {},
     "output_type": "execute_result"
    }
   ],
   "source": [
    "5//3"
   ]
  },
  {
   "cell_type": "code",
   "execution_count": 12,
   "metadata": {},
   "outputs": [
    {
     "data": {
      "text/plain": [
       "2"
      ]
     },
     "execution_count": 12,
     "metadata": {},
     "output_type": "execute_result"
    }
   ],
   "source": [
    "5%3"
   ]
  },
  {
   "cell_type": "code",
   "execution_count": 13,
   "metadata": {},
   "outputs": [
    {
     "data": {
      "text/plain": [
       "125"
      ]
     },
     "execution_count": 13,
     "metadata": {},
     "output_type": "execute_result"
    }
   ],
   "source": [
    "5**3"
   ]
  },
  {
   "cell_type": "code",
   "execution_count": 14,
   "metadata": {},
   "outputs": [
    {
     "data": {
      "text/plain": [
       "6"
      ]
     },
     "execution_count": 14,
     "metadata": {},
     "output_type": "execute_result"
    }
   ],
   "source": [
    "5^3"
   ]
  },
  {
   "cell_type": "code",
   "execution_count": 15,
   "metadata": {},
   "outputs": [
    {
     "data": {
      "text/plain": [
       "2"
      ]
     },
     "execution_count": 15,
     "metadata": {},
     "output_type": "execute_result"
    }
   ],
   "source": [
    "# if we have\n",
    "5+3\n",
    "5-3 #it'll give the answer to the last operation"
   ]
  },
  {
   "cell_type": "code",
   "execution_count": 16,
   "metadata": {},
   "outputs": [
    {
     "name": "stdout",
     "output_type": "stream",
     "text": [
      "8\n"
     ]
    },
    {
     "data": {
      "text/plain": [
       "2"
      ]
     },
     "execution_count": 16,
     "metadata": {},
     "output_type": "execute_result"
    }
   ],
   "source": [
    "print(5+3)\n",
    "5-3 #it'll give answers to both operations"
   ]
  },
  {
   "cell_type": "markdown",
   "metadata": {},
   "source": [
    "#### Math functions\n",
    "\n",
    "abs(): absolute value\n",
    "min(,): minimal number\n",
    "help(): see more about functions\n",
    "\n",
    "Other mathematical functions have 'math' in front of it\n",
    "\n",
    "Examples:"
   ]
  },
  {
   "cell_type": "code",
   "execution_count": 17,
   "metadata": {},
   "outputs": [],
   "source": [
    "import math"
   ]
  },
  {
   "cell_type": "code",
   "execution_count": 18,
   "metadata": {},
   "outputs": [
    {
     "data": {
      "text/plain": [
       "2.23606797749979"
      ]
     },
     "execution_count": 18,
     "metadata": {},
     "output_type": "execute_result"
    }
   ],
   "source": [
    "math.sqrt(5)"
   ]
  },
  {
   "cell_type": "code",
   "execution_count": 19,
   "metadata": {},
   "outputs": [
    {
     "data": {
      "text/plain": [
       "1.0"
      ]
     },
     "execution_count": 19,
     "metadata": {},
     "output_type": "execute_result"
    }
   ],
   "source": [
    "math.cos(0)"
   ]
  },
  {
   "cell_type": "markdown",
   "metadata": {},
   "source": [
    "## Basics of CPU and GPU\n",
    "\n",
    "### CPU\n",
    "Central processing unit; good for omplex operations & small number of processor cores (it's like one person doing hard calculation)\n",
    "\n",
    "### GPU\n",
    "Graphics processing unit; good for simple operations and large number of processor cores (it's like many people doing simple calulations"
   ]
  },
  {
   "cell_type": "markdown",
   "metadata": {},
   "source": [
    "## Google Colab\n",
    "Lets you use CPU & GPU resources & notebook in cloud for free\n",
    "\n",
    "To access:\n",
    "Edit --> Notebook settings --> Down arrow --> GPU --> save\n",
    "\n",
    "To check it: \n",
    "type !nvidia-smi --> Shift Enter"
   ]
  }
 ],
 "metadata": {
  "kernelspec": {
   "display_name": "Python 3",
   "language": "python",
   "name": "python3"
  },
  "language_info": {
   "codemirror_mode": {
    "name": "ipython",
    "version": 3
   },
   "file_extension": ".py",
   "mimetype": "text/x-python",
   "name": "python",
   "nbconvert_exporter": "python",
   "pygments_lexer": "ipython3",
   "version": "3.8.5"
  }
 },
 "nbformat": 4,
 "nbformat_minor": 4
}
