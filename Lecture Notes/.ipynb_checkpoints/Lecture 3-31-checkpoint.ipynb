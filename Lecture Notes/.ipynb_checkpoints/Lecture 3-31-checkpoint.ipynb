{
 "cells": [
  {
   "cell_type": "markdown",
   "metadata": {},
   "source": [
    "# Software Preparation"
   ]
  },
  {
   "cell_type": "markdown",
   "metadata": {},
   "source": [
    "## Basics of Git\n",
    "Github: open tool to store & share codes; based on Git, a basic command tool\n",
    "Github Desktop: download it on laptop! It helps with the process of transporting files from Github repository to the drive\n",
    "\n",
    "#### Clone\n",
    "Clone:allows you to download repository onto your own computer & allow it to update when repository is updated\n",
    "    To do that: Github desktop --> Add (sidebar) --> Clone repository --> URL --> copy & paste URL of desired repository\n",
    "    \n",
    "#### Fetch and Pull\n",
    "Fetch: allows you to pick up any changes made to the repository\n",
    "    To do that: Github desktop --> Fetch origin (header bar, right side) (NOTE: sometimes, this is automatically done for you\n",
    "\n",
    "Pull: allows you to download the changes into your computer\n",
    "    To do that: Github desktop --> Pull origin (header bar, right side), works after Fetch\n",
    "    \n",
    "#### Commit and Push\n",
    "\n"
   ]
  },
  {
   "cell_type": "code",
   "execution_count": null,
   "metadata": {},
   "outputs": [],
   "source": []
  }
 ],
 "metadata": {
  "kernelspec": {
   "display_name": "Python 3",
   "language": "python",
   "name": "python3"
  },
  "language_info": {
   "codemirror_mode": {
    "name": "ipython",
    "version": 3
   },
   "file_extension": ".py",
   "mimetype": "text/x-python",
   "name": "python",
   "nbconvert_exporter": "python",
   "pygments_lexer": "ipython3",
   "version": "3.8.5"
  }
 },
 "nbformat": 4,
 "nbformat_minor": 4
}
