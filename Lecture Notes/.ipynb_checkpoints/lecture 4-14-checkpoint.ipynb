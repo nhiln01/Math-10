{
 "cells": [
  {
   "cell_type": "markdown",
   "metadata": {},
   "source": [
    "# Lecture 6 Class and Modules\n",
    "\n",
    "A possibly overlooked point: Modules and Class in Python share many similaries at the basic level. They both contain some data (names, attributes) and codes (functions, methods) for the convenience of users -- and the codes to call them are also similar. Of course, Class also serves as the blue prints to generate instances, and supports more advanced functions such as Inheritance.\n",
    "\n",
    "## Class and Instance\n",
    "Intuitively speaking, **classes** (or understood as types) are the \"factories\" to produce **instances** (concrete objects). For example, you can image that in the class of \"list\" in python, it defines the behavior of lists (methods) such as append,copy, and you can create concrete list objects (each with different values) from the list class, and directly uses the methods defined.\n",
    "\n",
    "Programming with the idea of creating classes is the key to [Object-Oriented Programming(OOP)](https://en.wikipedia.org/wiki/Object-oriented_programming#:~:text=Object%2Doriented%20programming%20),(often%20known%20as%20methods)). See the concrete example of circle [here](https://en.wikipedia.org/wiki/Comparison_of_programming_paradigms).\n",
    "\n",
    "### Simple Example of Vector\n",
    "Let's first define the simplest class in Python"
   ]
  },
  {
   "cell_type": "code",
   "execution_count": 23,
   "metadata": {},
   "outputs": [],
   "source": [
    "class VectorV0: # parenthesis not required for now\n",
    "    # treats classes like factories that create objects\n",
    "    '''The simplest class in Python''' # document string; describe what the class is about (same as function)\n",
    "    pass # we do nothing; returns nothing"
   ]
  },
  {
   "cell_type": "markdown",
   "metadata": {},
   "source": [
    "create two instances `v1` and `v2`"
   ]
  },
  {
   "cell_type": "code",
   "execution_count": 24,
   "metadata": {},
   "outputs": [
    {
     "name": "stdout",
     "output_type": "stream",
     "text": [
      "2227554713552\n",
      "2227554710816\n"
     ]
    }
   ],
   "source": [
    "v1=VectorV0() # like a function, format it like this to make instances; don't forget ()\n",
    "print(id(v1))\n",
    "v2=VectorV0()\n",
    "print(id(v2)) # identity of v2 and v1 are different; class creates different objects"
   ]
  },
  {
   "cell_type": "markdown",
   "metadata": {},
   "source": [
    "Now, `v1` and `v2` are objects"
   ]
  },
  {
   "cell_type": "code",
   "execution_count": 25,
   "metadata": {},
   "outputs": [
    {
     "data": {
      "text/plain": [
       "__main__.VectorV0"
      ]
     },
     "execution_count": 25,
     "metadata": {},
     "output_type": "execute_result"
    }
   ],
   "source": [
    "type (v1)"
   ]
  },
  {
   "cell_type": "code",
   "execution_count": 26,
   "metadata": {},
   "outputs": [
    {
     "data": {
      "text/plain": [
       "['__class__',\n",
       " '__delattr__',\n",
       " '__dict__',\n",
       " '__dir__',\n",
       " '__doc__',\n",
       " '__eq__',\n",
       " '__format__',\n",
       " '__ge__',\n",
       " '__getattribute__',\n",
       " '__gt__',\n",
       " '__hash__',\n",
       " '__init__',\n",
       " '__init_subclass__',\n",
       " '__le__',\n",
       " '__lt__',\n",
       " '__module__',\n",
       " '__ne__',\n",
       " '__new__',\n",
       " '__reduce__',\n",
       " '__reduce_ex__',\n",
       " '__repr__',\n",
       " '__setattr__',\n",
       " '__sizeof__',\n",
       " '__str__',\n",
       " '__subclasshook__',\n",
       " '__weakref__']"
      ]
     },
     "execution_count": 26,
     "metadata": {},
     "output_type": "execute_result"
    }
   ],
   "source": [
    "dir(v1) # even if you do nothing with them, they have attributes"
   ]
  },
  {
   "cell_type": "code",
   "execution_count": 27,
   "metadata": {},
   "outputs": [
    {
     "data": {
      "text/plain": [
       "'The simplest class in Python'"
      ]
     },
     "execution_count": 27,
     "metadata": {},
     "output_type": "execute_result"
    }
   ],
   "source": [
    "v1.__doc__"
   ]
  },
  {
   "cell_type": "code",
   "execution_count": 28,
   "metadata": {},
   "outputs": [
    {
     "name": "stdout",
     "output_type": "stream",
     "text": [
      "Help on VectorV0 in module __main__ object:\n",
      "\n",
      "class VectorV0(builtins.object)\n",
      " |  The simplest class in Python\n",
      " |  \n",
      " |  Data descriptors defined here:\n",
      " |  \n",
      " |  __dict__\n",
      " |      dictionary for instance variables (if defined)\n",
      " |  \n",
      " |  __weakref__\n",
      " |      list of weak references to the object (if defined)\n",
      "\n"
     ]
    }
   ],
   "source": [
    "help(v1)"
   ]
  },
  {
   "cell_type": "code",
   "execution_count": 29,
   "metadata": {},
   "outputs": [],
   "source": [
    "# you can assign instance attributes; these attributes belong to these instances, which are now objects\n",
    "v1.x = 1.0\n",
    "v1.y = 2.0\n",
    "v2.x = 2.0\n",
    "v2.y = 3.0"
   ]
  },
  {
   "cell_type": "code",
   "execution_count": 30,
   "metadata": {},
   "outputs": [
    {
     "data": {
      "text/plain": [
       "['__class__',\n",
       " '__delattr__',\n",
       " '__dict__',\n",
       " '__dir__',\n",
       " '__doc__',\n",
       " '__eq__',\n",
       " '__format__',\n",
       " '__ge__',\n",
       " '__getattribute__',\n",
       " '__gt__',\n",
       " '__hash__',\n",
       " '__init__',\n",
       " '__init_subclass__',\n",
       " '__le__',\n",
       " '__lt__',\n",
       " '__module__',\n",
       " '__ne__',\n",
       " '__new__',\n",
       " '__reduce__',\n",
       " '__reduce_ex__',\n",
       " '__repr__',\n",
       " '__setattr__',\n",
       " '__sizeof__',\n",
       " '__str__',\n",
       " '__subclasshook__',\n",
       " '__weakref__',\n",
       " 'x',\n",
       " 'y']"
      ]
     },
     "execution_count": 30,
     "metadata": {},
     "output_type": "execute_result"
    }
   ],
   "source": [
    "dir(v1) # note that x and y are now a part of the directory of v1 and v2"
   ]
  },
  {
   "cell_type": "markdown",
   "metadata": {},
   "source": [
    "We don't want to create the instance or define the coordinates seperately. Can we do these in one step, when initializing the instance?"
   ]
  },
  {
   "cell_type": "code",
   "execution_count": 31,
   "metadata": {},
   "outputs": [],
   "source": [
    "class VectorV1:\n",
    "    '''define the vector'''  # this is the document string\n",
    "    dim = 2   # dimension is 2; it also becomes an attribute\n",
    "    # this is the attribute in class -- class attributes\n",
    "    def __init__(self, x=0.0, y=0.0):  # any method in Class requires the first parameter to be self!\n",
    "        self.x = x # instance attributes defined by self.attribute\n",
    "        self.y = y # it also defines x and y as attributes of v1"
   ]
  },
  {
   "cell_type": "code",
   "execution_count": 32,
   "metadata": {},
   "outputs": [],
   "source": [
    "v1=VectorV1(1.0,2.0) # you can pass the value directly, because you already defined __init__"
   ]
  },
  {
   "cell_type": "code",
   "execution_count": 33,
   "metadata": {},
   "outputs": [
    {
     "name": "stdout",
     "output_type": "stream",
     "text": [
      "2\n",
      "1.0\n",
      "2.0\n"
     ]
    }
   ],
   "source": [
    "print(v1.dim)\n",
    "print(v1.x)\n",
    "print(v1.y)"
   ]
  },
  {
   "cell_type": "markdown",
   "metadata": {},
   "source": [
    "Btw, there is nothing mysterious about the `__init__`: you can just assume it is a function (method) stored in v1, and you can always call it if you like!\n",
    "\n",
    "When you write `v1.__init__()`, you can equivalently think that you are calling a function with \"ugly function name\" `__init__`, and the parameter is `v1` (self), i.e. you are writing `__init__(v1)`. It is just a function updating the attributes of instance objects!\n",
    "\n",
    "More generally, for the method `method(self, params)` you can call it by `self.method(params)`."
   ]
  },
  {
   "cell_type": "code",
   "execution_count": 34,
   "metadata": {},
   "outputs": [
    {
     "name": "stdout",
     "output_type": "stream",
     "text": [
      "1.0\n",
      "2227553549328\n",
      "0.0\n",
      "2227553549328\n",
      "None\n"
     ]
    }
   ],
   "source": [
    "print(v1.x)\n",
    "print(id(v1))\n",
    "y = v1.__init__() # puts x and y back to their initial values (0.0,0.0)\n",
    "print(v1.x) # note that instance is included here, along  its attribute and this is what changes\n",
    "print(id(v1)) # mutable object; identity of v1 doesn't change, but its value changes\n",
    "print(y) # no return for the function; y isn't a defined variable"
   ]
  },
  {
   "cell_type": "markdown",
   "metadata": {},
   "source": [
    "`v1` is just like a mutable object,  and the \"function\" `__init__( )` just change `v1` in place!"
   ]
  },
  {
   "cell_type": "code",
   "execution_count": 35,
   "metadata": {},
   "outputs": [],
   "source": [
    "import math\n",
    "\n",
    "class VectorV2:\n",
    "    '''define the vector'''  # this is the document string\n",
    "    dim = 2   # this is the class attribute\n",
    "    \n",
    "    def __init__(self, x=0.0, y=0.0):  # any method in Class requires the first parameter to be self!\n",
    "        '''initialize the vector by providing x and y coordinate'''\n",
    "        self.x = x\n",
    "        self.y = y\n",
    "        \n",
    "    def norm(self): # these functions act as attributes to the class\n",
    "        '''calculate the norm of vector'''\n",
    "        return math.sqrt(self.x**2+self.y**2) # returns length of vector\n",
    "    \n",
    "    def vector_sum(self, other): # includes self and other; another object\n",
    "        '''calculate the vector sum of two vectors'''\n",
    "        return VectorV2(self.x + other.x, self.y + other.y) # initialize a new vector & have it play out in the function\n",
    "    \n",
    "    def show_coordinate(self): # self is object; self allows you to call upon a value (ex. x or y) \n",
    "        '''display the coordinates of the vector'''\n",
    "        return 'Vector(%r, %r)' % (self.x, self.y) # lets you write functions and expressions with your results\n",
    "    # % lets you replace r with x and r with y"
   ]
  },
  {
   "cell_type": "code",
   "execution_count": 36,
   "metadata": {},
   "outputs": [
    {
     "name": "stdout",
     "output_type": "stream",
     "text": [
      "Help on class VectorV2 in module __main__:\n",
      "\n",
      "class VectorV2(builtins.object)\n",
      " |  VectorV2(x=0.0, y=0.0)\n",
      " |  \n",
      " |  define the vector\n",
      " |  \n",
      " |  Methods defined here:\n",
      " |  \n",
      " |  __init__(self, x=0.0, y=0.0)\n",
      " |      initialize the vector by providing x and y coordinate\n",
      " |  \n",
      " |  norm(self)\n",
      " |      calculate the norm of vector\n",
      " |  \n",
      " |  show_coordinate(self)\n",
      " |      display the coordinates of the vector\n",
      " |  \n",
      " |  vector_sum(self, other)\n",
      " |      calculate the vector sum of two vectors\n",
      " |  \n",
      " |  ----------------------------------------------------------------------\n",
      " |  Data descriptors defined here:\n",
      " |  \n",
      " |  __dict__\n",
      " |      dictionary for instance variables (if defined)\n",
      " |  \n",
      " |  __weakref__\n",
      " |      list of weak references to the object (if defined)\n",
      " |  \n",
      " |  ----------------------------------------------------------------------\n",
      " |  Data and other attributes defined here:\n",
      " |  \n",
      " |  dim = 2\n",
      "\n"
     ]
    }
   ],
   "source": [
    "help(VectorV2)"
   ]
  },
  {
   "cell_type": "code",
   "execution_count": 37,
   "metadata": {},
   "outputs": [],
   "source": [
    "v1 = VectorV2(1.0,2.0)\n",
    "v2 = VectorV2(2.0,3.0)"
   ]
  },
  {
   "cell_type": "code",
   "execution_count": 38,
   "metadata": {},
   "outputs": [
    {
     "name": "stdout",
     "output_type": "stream",
     "text": [
      "2.23606797749979\n"
     ]
    }
   ],
   "source": [
    "v1_length = v1.norm()\n",
    "print(v1_length)"
   ]
  },
  {
   "cell_type": "markdown",
   "metadata": {},
   "source": [
    "Equivalent way to call this method is (although not used often):"
   ]
  },
  {
   "cell_type": "code",
   "execution_count": 39,
   "metadata": {},
   "outputs": [
    {
     "data": {
      "text/plain": [
       "2.23606797749979"
      ]
     },
     "execution_count": 39,
     "metadata": {},
     "output_type": "execute_result"
    }
   ],
   "source": [
    "# easier way to write above items; call upon the class directly\n",
    "VectorV2.norm(v1)"
   ]
  },
  {
   "cell_type": "markdown",
   "metadata": {},
   "source": [
    "For built-in types, we have something similar:"
   ]
  },
  {
   "cell_type": "code",
   "execution_count": 40,
   "metadata": {},
   "outputs": [
    {
     "name": "stdout",
     "output_type": "stream",
     "text": [
      "[1, 2, 3, 4]\n"
     ]
    }
   ],
   "source": [
    "a=[1,2,3]\n",
    "list.append(a,4) # equivalent to a.append(4)\n",
    "# if we look at it, list is actually a python class, and append is a function defined in Python\n",
    "print(a)"
   ]
  },
  {
   "cell_type": "markdown",
   "metadata": {},
   "source": [
    "Despite that we don't have any reason not to use `a.append()` directly.\n",
    "\n",
    "Instead of `method (self,parameters)`,  it is encouraged to instead call it by `self.method(parameters)`"
   ]
  },
  {
   "cell_type": "code",
   "execution_count": 41,
   "metadata": {},
   "outputs": [
    {
     "data": {
      "text/plain": [
       "'Vector(3.0, 5.0)'"
      ]
     },
     "execution_count": 41,
     "metadata": {},
     "output_type": "execute_result"
    }
   ],
   "source": [
    "v3=v1.vector_sum(v2) # we write this instead of vector_sum(v1,v2)\n",
    "# here, we see it in the self.method(parameters) format\n",
    "v3.show_coordinate()"
   ]
  },
  {
   "cell_type": "code",
   "execution_count": 42,
   "metadata": {},
   "outputs": [
    {
     "ename": "TypeError",
     "evalue": "unsupported operand type(s) for +: 'VectorV2' and 'VectorV2'",
     "output_type": "error",
     "traceback": [
      "\u001b[1;31m---------------------------------------------------------------------------\u001b[0m",
      "\u001b[1;31mTypeError\u001b[0m                                 Traceback (most recent call last)",
      "\u001b[1;32m<ipython-input-42-7306525ff8c5>\u001b[0m in \u001b[0;36m<module>\u001b[1;34m\u001b[0m\n\u001b[1;32m----> 1\u001b[1;33m \u001b[0mv1\u001b[0m\u001b[1;33m+\u001b[0m\u001b[0mv2\u001b[0m \u001b[1;31m# will not work because Python doesn't know what + means in terms of Vector2\u001b[0m\u001b[1;33m\u001b[0m\u001b[1;33m\u001b[0m\u001b[0m\n\u001b[0m",
      "\u001b[1;31mTypeError\u001b[0m: unsupported operand type(s) for +: 'VectorV2' and 'VectorV2'"
     ]
    }
   ],
   "source": [
    "v1+v2 # will not work because Python doesn't know what + means in terms of Vector2"
   ]
  },
  {
   "cell_type": "code",
   "execution_count": 43,
   "metadata": {},
   "outputs": [
    {
     "name": "stdout",
     "output_type": "stream",
     "text": [
      "<__main__.VectorV2 object at 0x00000206A49A3F70>\n"
     ]
    }
   ],
   "source": [
    "print(v3)"
   ]
  },
  {
   "cell_type": "markdown",
   "metadata": {},
   "source": [
    "Something that we are still not satisfied:\n",
    "\n",
    "- By typing v3 or using `print()` in the code, we cannot show its coordinates directly\n",
    "- We cannot use the `+` operator to calculate the vector sum"
   ]
  }
 ],
 "metadata": {
  "kernelspec": {
   "display_name": "Python 3",
   "language": "python",
   "name": "python3"
  },
  "language_info": {
   "codemirror_mode": {
    "name": "ipython",
    "version": 3
   },
   "file_extension": ".py",
   "mimetype": "text/x-python",
   "name": "python",
   "nbconvert_exporter": "python",
   "pygments_lexer": "ipython3",
   "version": "3.8.5"
  }
 },
 "nbformat": 4,
 "nbformat_minor": 4
}
