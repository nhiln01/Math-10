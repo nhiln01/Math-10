{
 "cells": [
  {
   "cell_type": "markdown",
   "metadata": {},
   "source": [
    "# Lecture 5: Control Flows and Functions (continued)"
   ]
  },
  {
   "cell_type": "markdown",
   "metadata": {},
   "source": [
    "### Choice and `if` statements in Python\n",
    "General form:\n",
    "\n",
    "`if test_1:     # test_1 should return a boolean result -- don't forget the colon: here\n",
    "    statement_1 # associated block of test_1 -- don't forget the indentation here\n",
    " elif test_2:   # optional, if we have multiple branches\n",
    "    statement_2\n",
    " else:          # optional\n",
    "    statement_3`\n",
    "    \n",
    "examples are provided in lecture 4-7"
   ]
  },
  {
   "cell_type": "markdown",
   "metadata": {},
   "source": [
    "### `while` loops\n",
    "You're given a condition, and while the condition is satisfied, it'll continue to run until the condition isn't held anymore\n",
    "\n",
    "While has else\n",
    "- if your while ends normally (like when condition no longer holds), then it'll ask you statement two\n",
    "- in Matlab, 'break' is used when you stop while manually, even when condition still holds\n",
    "- 'else' will come in with condition 2 once the first condition no longer holds OR when first condition breaks\n",
    "\n",
    "`while test:  # test returns a boolean\n",
    "    statement_1\n",
    "else:             # a special feature about python that is overlooked! Use it in combination with break/continue \n",
    "    statement_2`"
   ]
  },
  {
   "cell_type": "code",
   "execution_count": 1,
   "metadata": {},
   "outputs": [
    {
     "name": "stdout",
     "output_type": "stream",
     "text": [
      "2254744372096\n",
      "2254744372096\n",
      "2254744372096\n",
      "2254744372096\n",
      "2254744372096\n",
      "2254744372096\n",
      "2254744372096\n",
      "2254744372096\n",
      "2254744372096\n",
      "2254744372096\n",
      "[0, 1, 2, 3, 4, 5, 6, 7, 8, 9]\n"
     ]
    }
   ],
   "source": [
    "# create a list from while loop\n",
    "n = 0 \n",
    "mylist = [] # create an empty list\n",
    "while n < 10:\n",
    "    mylist.append(n) # the code to be executed if n < 10; append: no output, but put an n element into mylist\n",
    "    n = n + 1 # increase the counter by 1; continues until n isn't < 10 anymore\n",
    "    print(id(mylist))\n",
    "    \n",
    "print(mylist) # this line is no longer in the while loop!; no indentation shows that the loop has ended\n",
    "# note: if we indented this line into the loop, it'll print mylist after every n < 10 since it'll be in the loop"
   ]
  },
  {
   "cell_type": "code",
   "execution_count": 2,
   "metadata": {},
   "outputs": [
    {
     "name": "stdout",
     "output_type": "stream",
     "text": [
      "y is not prime\n",
      "5\n"
     ]
    }
   ],
   "source": [
    "# determine whether y is prime\n",
    "y = 15\n",
    "x = y // 2 # Why? Can it be improved?\n",
    "# it starts with y//2, since y//0 is invalid and y//1 will just be y\n",
    "while x > 1:\n",
    "    if y % x == 0: # Remainder 0; y is a divisor! use % as symbol for divisor\n",
    "        print('y is not prime')\n",
    "        break      # exit the while loop immediately;  you don't have to keep running while loop\n",
    "    else:          # this else is for if\n",
    "        x = x-1  # decrease x by 1 if it isn't a divisor\n",
    "else:              # this else is for while - run this if only there is normal exit without breaking\n",
    "    print('y is prime') # what if this statement is not in the else block?\n",
    "\n",
    "print(x) # this no longer is a part of the while loop"
   ]
  },
  {
   "cell_type": "markdown",
   "metadata": {},
   "source": [
    "### `for` loops\n",
    "\n",
    "General form:\n",
    "\n",
    "`for target in object:\n",
    "     statement_1\n",
    "     if test_1: break # exit the for loop immediately\n",
    "else:                 # run this only when exit normally without hitting break\n",
    "    statement_2`\n",
    "    \n",
    "\n",
    "Computing sum of the list\n",
    "- Iterating the list directly\n",
    "- Iterating through the index"
   ]
  },
  {
   "cell_type": "code",
   "execution_count": 3,
   "metadata": {},
   "outputs": [
    {
     "name": "stdout",
     "output_type": "stream",
     "text": [
      "10\n"
     ]
    }
   ],
   "source": [
    "#iterating the list\n",
    "mylist = [1,2,3,4]\n",
    "mysum = 0\n",
    "\n",
    "for x in mylist: # in allows x to be iterated as an element of mylist instead of just an index\n",
    "    mysum = mysum + x\n",
    "\n",
    "print(mysum) # outside of for loop\n",
    "\n",
    "# this might be a more pythonic way!"
   ]
  },
  {
   "cell_type": "code",
   "execution_count": 4,
   "metadata": {},
   "outputs": [
    {
     "name": "stdout",
     "output_type": "stream",
     "text": [
      "10\n"
     ]
    }
   ],
   "source": [
    "#iterating through index\n",
    "mylist = [1,2,3,4]\n",
    "mysum = 0\n",
    "\n",
    "for i in range(len(mylist)): # len(length) of mylist is 4, range(4) is 0 to 3\n",
    "    mysum = mysum + mylist[i]\n",
    "print(mysum)\n",
    "\n",
    "# this is what you're familiar in Matlab perhaps!"
   ]
  },
  {
   "cell_type": "markdown",
   "metadata": {},
   "source": [
    "By using the `enumerate()` we can actually iterate in both ways simultaneously!"
   ]
  },
  {
   "cell_type": "code",
   "execution_count": 5,
   "metadata": {},
   "outputs": [
    {
     "name": "stdout",
     "output_type": "stream",
     "text": [
      "[1, 2]\n",
      "2254744371392\n",
      "[1, 2]\n",
      "2254744371392\n",
      "[3, 4]\n",
      "2254744366336\n",
      "[3, 4]\n",
      "2254744366336\n"
     ]
    }
   ],
   "source": [
    "mylist = [[1,2],[3,4]] \n",
    "\n",
    "for i,x in enumerate(mylist): # pay attention to the order (i,x)\n",
    "    print(x)\n",
    "    print(id(x))\n",
    "    print(mylist[i])\n",
    "    print(id(mylist[i])) # identities of mylist[i] and x are the same"
   ]
  },
  {
   "cell_type": "markdown",
   "metadata": {},
   "source": [
    "Something tricky: Change the elements of list"
   ]
  },
  {
   "cell_type": "code",
   "execution_count": 6,
   "metadata": {},
   "outputs": [
    {
     "name": "stdout",
     "output_type": "stream",
     "text": [
      "2254744357312\n",
      "[2, 3, 4, 5]\n",
      "2254744357312\n"
     ]
    }
   ],
   "source": [
    "# add 1 to all of the elements of mylist\n",
    "mylist = [1,2,3,4] # regularly, if we did [1,2,3,4]+1, it would result in [1,2,3,4,1]\n",
    "print(id(mylist))\n",
    "\n",
    "for i in range(len(mylist)):\n",
    "    mylist[i] = mylist[i] + 1 # each element +1\n",
    "\n",
    "print(mylist)\n",
    "print(id(mylist)) # identity will not change, we only modify elements of the list, not the whole list itself"
   ]
  },
  {
   "cell_type": "code",
   "execution_count": 7,
   "metadata": {},
   "outputs": [
    {
     "name": "stdout",
     "output_type": "stream",
     "text": [
      "2\n",
      "3\n",
      "4\n",
      "5\n",
      "[1, 2, 3, 4]\n"
     ]
    }
   ],
   "source": [
    "# similar to code above, but more pythonic\n",
    "# this will NOT work -- think why !\n",
    "mylist = [1,2,3,4]\n",
    "\n",
    "for x in mylist: # this addresses the elements themselves (as separate objects), not within the mylist itself\n",
    "    x = x + 1 # x has nothing to do with the actual elements of mylist\n",
    "    print(x)\n",
    "\n",
    "print(mylist) # mylist will not changed"
   ]
  },
  {
   "cell_type": "markdown",
   "metadata": {},
   "source": [
    "A more *pythonic* way is through **list comprehension**\n",
    "\n",
    "General form:\n",
    "`new_list = [A for B in C if D]`"
   ]
  },
  {
   "cell_type": "code",
   "execution_count": 8,
   "metadata": {},
   "outputs": [
    {
     "name": "stdout",
     "output_type": "stream",
     "text": [
      "2254744178112\n",
      "[2, 3, 4, 5]\n",
      "2254744371392\n"
     ]
    }
   ],
   "source": [
    "mylist = [1,2,3,4]\n",
    "print(id(mylist))\n",
    "\n",
    "mylist = [x+1 for x in mylist] #creating a new list\n",
    "# compacted for loop, creates a new list where all of the elements of x has 1 added to them\n",
    "\n",
    "print(mylist)\n",
    "print(id(mylist)) \n",
    "# id of mylist changes; you have created a new list with a new list of the elements + 1 instead of just modifying elements themselves"
   ]
  },
  {
   "cell_type": "markdown",
   "metadata": {},
   "source": [
    "Comprehension is very powerful -- it can also be combined with if statement to 'filter' elements. Let's see the following example."
   ]
  },
  {
   "cell_type": "code",
   "execution_count": 11,
   "metadata": {},
   "outputs": [
    {
     "data": {
      "text/plain": [
       "['__add__',\n",
       " '__class__',\n",
       " '__contains__',\n",
       " '__delattr__',\n",
       " '__delitem__',\n",
       " '__dir__',\n",
       " '__doc__',\n",
       " '__eq__',\n",
       " '__format__',\n",
       " '__ge__',\n",
       " '__getattribute__',\n",
       " '__getitem__',\n",
       " '__gt__',\n",
       " '__hash__',\n",
       " '__iadd__',\n",
       " '__imul__',\n",
       " '__init__',\n",
       " '__init_subclass__',\n",
       " '__iter__',\n",
       " '__le__',\n",
       " '__len__',\n",
       " '__lt__',\n",
       " '__mul__',\n",
       " '__ne__',\n",
       " '__new__',\n",
       " '__reduce__',\n",
       " '__reduce_ex__',\n",
       " '__repr__',\n",
       " '__reversed__',\n",
       " '__rmul__',\n",
       " '__setattr__',\n",
       " '__setitem__',\n",
       " '__sizeof__',\n",
       " '__str__',\n",
       " '__subclasshook__',\n",
       " 'append',\n",
       " 'clear',\n",
       " 'copy',\n",
       " 'count',\n",
       " 'extend',\n",
       " 'index',\n",
       " 'insert',\n",
       " 'pop',\n",
       " 'remove',\n",
       " 'reverse',\n",
       " 'sort']"
      ]
     },
     "execution_count": 11,
     "metadata": {},
     "output_type": "execute_result"
    }
   ],
   "source": [
    "dir(mylist) # directory shows attributes of mylist that are usable\n",
    "# note: double undersore is called dunder\n",
    "# notice that the return of dir is a list of attributes, and each of them is represented by a string"
   ]
  },
  {
   "cell_type": "code",
   "execution_count": 12,
   "metadata": {},
   "outputs": [
    {
     "name": "stdout",
     "output_type": "stream",
     "text": [
      "['__add__', '__class__', '__contains__', '__delattr__', '__delitem__', '__dir__', '__doc__', '__eq__', '__format__', '__ge__', '__getattribute__', '__getitem__', '__gt__', '__hash__', '__iadd__', '__imul__', '__init__', '__init_subclass__', '__iter__', '__le__', '__len__', '__lt__', '__mul__', '__ne__', '__new__', '__reduce__', '__reduce_ex__', '__repr__', '__reversed__', '__rmul__', '__setattr__', '__setitem__', '__sizeof__', '__str__', '__subclasshook__']\n"
     ]
    }
   ],
   "source": [
    "# to store these strings\n",
    "# take all the special attributes/methods of mylist\n",
    "dir_mylist = dir(mylist) # to store it\n",
    "special_names = [name for name in dir_mylist if name.startswith('__')] # another list; each 'name' is a string\n",
    "# here, we're trying to keep names that starts with a dunner (__)\n",
    "print(special_names)"
   ]
  },
  {
   "cell_type": "code",
   "execution_count": 13,
   "metadata": {},
   "outputs": [
    {
     "name": "stdout",
     "output_type": "stream",
     "text": [
      "['__add__', '__class__', '__contains__', '__delattr__', '__delitem__', '__dir__', '__doc__', '__eq__', '__format__', '__ge__', '__getattribute__', '__getitem__', '__gt__', '__hash__', '__iadd__', '__imul__', '__init__', '__init_subclass__', '__iter__', '__le__', '__len__', '__lt__', '__mul__', '__ne__', '__new__', '__reduce__', '__reduce_ex__', '__repr__', '__reversed__', '__rmul__', '__setattr__', '__setitem__', '__sizeof__', '__str__', '__subclasshook__']\n"
     ]
    }
   ],
   "source": [
    "# similarly to the code above, this is a complete for loop\n",
    "# the above example is more 'pythonic' and elegant, since we only needed one line of code to do the work\n",
    "special_names = []\n",
    "for name in dir_mylist:\n",
    "    if name.startswith('__'): # startwith() is the method for python object str\n",
    "        special_names.append(name)\n",
    "print(special_names)"
   ]
  },
  {
   "cell_type": "markdown",
   "metadata": {},
   "source": [
    "Watch [this video](https://www.youtube.com/watch?v=OSGv2VnC0go) for writing the pythonic codes. Below are some more sophiscated examples -- in fact, too many loops/conditions in list comprehension can make the code less readable!"
   ]
  },
  {
   "cell_type": "code",
   "execution_count": 14,
   "metadata": {},
   "outputs": [
    {
     "name": "stdout",
     "output_type": "stream",
     "text": [
      "['Even', 'Odd', 'Even', 'Odd', 'Even', 'Odd', 'Even', 'Odd', 'Even', 'Odd', 'Even', 'Odd', 'Even', 'Odd', 'Even', 'Odd', 'Even', 'Odd', 'Even', 'Odd', 'Even', 'Odd', 'Even', 'Odd', 'Even', 'Odd', 'Even', 'Odd', 'Even', 'Odd', 'Even', 'Odd', 'Even', 'Odd', 'Even', 'Odd', 'Even', 'Odd', 'Even', 'Odd', 'Even', 'Odd', 'Even', 'Odd', 'Even', 'Odd', 'Even', 'Odd', 'Even', 'Odd', 'Even', 'Odd', 'Even', 'Odd', 'Even', 'Odd', 'Even', 'Odd', 'Even', 'Odd', 'Even', 'Odd', 'Even', 'Odd', 'Even', 'Odd', 'Even', 'Odd', 'Even', 'Odd', 'Even', 'Odd', 'Even', 'Odd', 'Even', 'Odd', 'Even', 'Odd', 'Even', 'Odd', 'Even', 'Odd', 'Even', 'Odd', 'Even', 'Odd', 'Even', 'Odd', 'Even', 'Odd', 'Even', 'Odd', 'Even', 'Odd', 'Even', 'Odd', 'Even', 'Odd', 'Even', 'Odd']\n"
     ]
    }
   ],
   "source": [
    "# determine the numbers from 0 to 99, if they are even or odd\n",
    "obj = [\"Even\" if i%2==0 else \"Odd\" for i in range(100)]\n",
    "print(obj)"
   ]
  },
  {
   "cell_type": "code",
   "execution_count": 15,
   "metadata": {},
   "outputs": [
    {
     "name": "stdout",
     "output_type": "stream",
     "text": [
      "[1, 2, 3, 4, 5, 6, 7, 8, 9]\n"
     ]
    }
   ],
   "source": [
    "vec = [[1,2,3], [4,5,6], [7,8,9]] # flatten this list of list, or matrix, to a single vector\n",
    "vec_flat = [num for elem in vec for num in elem] # nested loop (double for loops)\n",
    "# here, elem is element, which is a list in this list of lists, and num refers to the numbers themselves (1,2,etc.)\n",
    "print(vec_flat)"
   ]
  },
  {
   "cell_type": "markdown",
   "metadata": {},
   "source": [
    "## Functions\n",
    "\n",
    "### Defining the Function\n",
    "To define the function,\n",
    "\n",
    "`def func_name (arg1, arg2 = value):\n",
    "      statements\n",
    "      return value # if there's no return statement, just return None`\n",
    "      \n",
    "Here `arg1` is the normal argument, while `arg2` has the default value if no object is passed during the call. Note here that the order is important -- normal arguments first, followed by arguments with default values.\n",
    "\n",
    "In Python, functions are also objects! So running the codes above will create the function object, and using the name `func_name` to point to this object.\n",
    "\n",
    "*Remark*: In some languages like C, there's clear distinction between terms parameters (when defining) and arguments (when calling), while in Python we can just use the words more casually."
   ]
  },
  {
   "cell_type": "code",
   "execution_count": 16,
   "metadata": {},
   "outputs": [],
   "source": [
    "def simple_function():\n",
    "    '''this is a very simple function with neither input (arguments) nor output (return)''' \n",
    "    # ''' is used like # in Matlab'''; have something printed on your screen\n",
    "    pass # pass indicates an empty block of statements; ends the function"
   ]
  },
  {
   "cell_type": "code",
   "execution_count": 17,
   "metadata": {},
   "outputs": [
    {
     "name": "stdout",
     "output_type": "stream",
     "text": [
      "[None, <function simple_function at 0x0000020CF941C0D0>]\n"
     ]
    }
   ],
   "source": [
    "# after defining the function, \n",
    "y1 = simple_function() # y1 points to the return value, don't forget () when calling a function\n",
    "y2 = simple_function # y2 points to the function object, later you can just call the function by y2()\n",
    "print([y1,y2])\n",
    "# we see that for y1, we don't return anything (but it usually is the return value)\n",
    "# a new function, using the function object of simple_function but they're the same thing"
   ]
  },
  {
   "cell_type": "code",
   "execution_count": 18,
   "metadata": {},
   "outputs": [
    {
     "data": {
      "text/plain": [
       "['__annotations__',\n",
       " '__call__',\n",
       " '__class__',\n",
       " '__closure__',\n",
       " '__code__',\n",
       " '__defaults__',\n",
       " '__delattr__',\n",
       " '__dict__',\n",
       " '__dir__',\n",
       " '__doc__',\n",
       " '__eq__',\n",
       " '__format__',\n",
       " '__ge__',\n",
       " '__get__',\n",
       " '__getattribute__',\n",
       " '__globals__',\n",
       " '__gt__',\n",
       " '__hash__',\n",
       " '__init__',\n",
       " '__init_subclass__',\n",
       " '__kwdefaults__',\n",
       " '__le__',\n",
       " '__lt__',\n",
       " '__module__',\n",
       " '__name__',\n",
       " '__ne__',\n",
       " '__new__',\n",
       " '__qualname__',\n",
       " '__reduce__',\n",
       " '__reduce_ex__',\n",
       " '__repr__',\n",
       " '__setattr__',\n",
       " '__sizeof__',\n",
       " '__str__',\n",
       " '__subclasshook__']"
      ]
     },
     "execution_count": 18,
     "metadata": {},
     "output_type": "execute_result"
    }
   ],
   "source": [
    "dir(y2)\n",
    "dir(simple_function)\n",
    "# as seen here, they have the same attributes/methods"
   ]
  },
  {
   "cell_type": "code",
   "execution_count": 19,
   "metadata": {},
   "outputs": [
    {
     "data": {
      "text/plain": [
       "'this is a very simple function with neither input (arguments) nor output (return)'"
      ]
     },
     "execution_count": 19,
     "metadata": {},
     "output_type": "execute_result"
    }
   ],
   "source": [
    "y2.__doc__ # as seen, y2 basically does what simple_function was instructed to do"
   ]
  },
  {
   "cell_type": "code",
   "execution_count": 20,
   "metadata": {},
   "outputs": [
    {
     "name": "stdout",
     "output_type": "stream",
     "text": [
      "Help on function simple_function in module __main__:\n",
      "\n",
      "simple_function()\n",
      "    this is a very simple function with neither input (arguments) nor output (return)\n",
      "\n"
     ]
    }
   ],
   "source": [
    "help(y2) # simple_function and y2 are labels of the same object"
   ]
  },
  {
   "cell_type": "code",
   "execution_count": 21,
   "metadata": {},
   "outputs": [
    {
     "data": {
      "text/plain": [
       "NoneType"
      ]
     },
     "execution_count": 21,
     "metadata": {},
     "output_type": "execute_result"
    }
   ],
   "source": [
    "type(None)"
   ]
  },
  {
   "cell_type": "markdown",
   "metadata": {},
   "source": [
    "Let's see what does the return statement do here."
   ]
  },
  {
   "cell_type": "code",
   "execution_count": 22,
   "metadata": {},
   "outputs": [],
   "source": [
    "# we have to define this function first, so that it can be called on later\n",
    "def create_list():\n",
    "    mylist = [1,2,3]\n",
    "    print(id(mylist))\n",
    "    return mylist  #The return statement just pass the object to output"
   ]
  },
  {
   "cell_type": "code",
   "execution_count": 25,
   "metadata": {},
   "outputs": [
    {
     "name": "stdout",
     "output_type": "stream",
     "text": [
      "2254744394816\n",
      "[1, 2, 3]\n",
      "2254744394816\n"
     ]
    }
   ],
   "source": [
    "output_list = create_list() # call upon the function created above\n",
    "print(output_list)\n",
    "print(id(output_list)) # check the identities of mylist and output_list; returns the same object"
   ]
  },
  {
   "cell_type": "markdown",
   "metadata": {},
   "source": [
    "Whenever `return` is executed in Python, the function will \"jump out\" and all the remaining statements after return will not be executed -- so be cautious when you write return in the loops! An alternative way might be you just modify some variable(name) in the loop, and return the variable at the end of your function."
   ]
  },
  {
   "cell_type": "code",
   "execution_count": 30,
   "metadata": {},
   "outputs": [],
   "source": [
    "def list_square(l):\n",
    "    ls = []\n",
    "    for x in l:\n",
    "        ls.append(x**2)\n",
    "    return ls # this means the return isn't a part of the for loop\n",
    "# if return was a part of the for loop, it'll only give the square of the first element in the list \n",
    "# it won't continue with the rest of the elements"
   ]
  },
  {
   "cell_type": "code",
   "execution_count": 29,
   "metadata": {},
   "outputs": [
    {
     "data": {
      "text/plain": [
       "[16, 25, 36]"
      ]
     },
     "execution_count": 29,
     "metadata": {},
     "output_type": "execute_result"
    }
   ],
   "source": [
    "list_square([4,5,6])"
   ]
  }
 ],
 "metadata": {
  "kernelspec": {
   "display_name": "Python 3",
   "language": "python",
   "name": "python3"
  },
  "language_info": {
   "codemirror_mode": {
    "name": "ipython",
    "version": 3
   },
   "file_extension": ".py",
   "mimetype": "text/x-python",
   "name": "python",
   "nbconvert_exporter": "python",
   "pygments_lexer": "ipython3",
   "version": "3.8.5"
  }
 },
 "nbformat": 4,
 "nbformat_minor": 4
}
