{
 "cells": [
  {
   "cell_type": "markdown",
   "metadata": {},
   "source": [
    "# Expressions, Variables, Objects"
   ]
  },
  {
   "cell_type": "markdown",
   "metadata": {},
   "source": [
    "Lectures: focused on conceptual parts\n",
    "Discussions: logical and hone in on programming skills\n",
    "\n",
    "Last lecture examples: "
   ]
  },
  {
   "cell_type": "markdown",
   "metadata": {},
   "source": [
    "Object: *Everything is an object in Python!*\n",
    "\n",
    "3 most important things about objects in Python\n",
    "- identity\n",
    "- type\n",
    "- value"
   ]
  },
  {
   "cell_type": "markdown",
   "metadata": {},
   "source": [
    "### What is Identity\n",
    "The id() function returns an integer called identity; it's a build in function that gives a certain number or expression a code, and that code is what Python identifies the number or expression as\n",
    "\n",
    "It shows where, in your computer memory, does the number, function, or expression live in"
   ]
  },
  {
   "cell_type": "code",
   "execution_count": 7,
   "metadata": {},
   "outputs": [
    {
     "data": {
      "text/plain": [
       "140711703881568"
      ]
     },
     "execution_count": 7,
     "metadata": {},
     "output_type": "execute_result"
    }
   ],
   "source": [
    "id(3) # identity of interger 3"
   ]
  },
  {
   "cell_type": "code",
   "execution_count": 8,
   "metadata": {},
   "outputs": [
    {
     "data": {
      "text/plain": [
       "2250887220304"
      ]
     },
     "execution_count": 8,
     "metadata": {},
     "output_type": "execute_result"
    }
   ],
   "source": [
    "id(5.0) # identity of float 5"
   ]
  },
  {
   "cell_type": "code",
   "execution_count": 9,
   "metadata": {},
   "outputs": [
    {
     "data": {
      "text/plain": [
       "2250817864704"
      ]
     },
     "execution_count": 9,
     "metadata": {},
     "output_type": "execute_result"
    }
   ],
   "source": [
    "id(abs) # built-in functions have identities too"
   ]
  },
  {
   "cell_type": "code",
   "execution_count": 10,
   "metadata": {},
   "outputs": [
    {
     "data": {
      "text/plain": [
       "140711703881568"
      ]
     },
     "execution_count": 10,
     "metadata": {},
     "output_type": "execute_result"
    }
   ],
   "source": [
    "a = 3\n",
    "id(a) # this number should match with id(3)"
   ]
  },
  {
   "cell_type": "markdown",
   "metadata": {},
   "source": [
    "### Type and type()\n",
    "Shows built-in types from Python. Popular data packages have their own type too"
   ]
  },
  {
   "cell_type": "code",
   "execution_count": 11,
   "metadata": {},
   "outputs": [
    {
     "data": {
      "text/plain": [
       "int"
      ]
     },
     "execution_count": 11,
     "metadata": {},
     "output_type": "execute_result"
    }
   ],
   "source": [
    "type(3) # 3 is an integer"
   ]
  },
  {
   "cell_type": "code",
   "execution_count": 12,
   "metadata": {},
   "outputs": [
    {
     "data": {
      "text/plain": [
       "bool"
      ]
     },
     "execution_count": 12,
     "metadata": {},
     "output_type": "execute_result"
    }
   ],
   "source": [
    "type(True)"
   ]
  },
  {
   "cell_type": "code",
   "execution_count": 13,
   "metadata": {},
   "outputs": [
    {
     "data": {
      "text/plain": [
       "float"
      ]
     },
     "execution_count": 13,
     "metadata": {},
     "output_type": "execute_result"
    }
   ],
   "source": [
    "type(5.) # this is a float, in Python, floats and integers are different things"
   ]
  },
  {
   "cell_type": "code",
   "execution_count": 14,
   "metadata": {},
   "outputs": [
    {
     "data": {
      "text/plain": [
       "str"
      ]
     },
     "execution_count": 14,
     "metadata": {},
     "output_type": "execute_result"
    }
   ],
   "source": [
    "type('python') # string, can also be written with \"\""
   ]
  },
  {
   "cell_type": "code",
   "execution_count": 15,
   "metadata": {},
   "outputs": [
    {
     "data": {
      "text/plain": [
       "list"
      ]
     },
     "execution_count": 15,
     "metadata": {},
     "output_type": "execute_result"
    }
   ],
   "source": [
    "type([1,2,3])"
   ]
  },
  {
   "cell_type": "code",
   "execution_count": 16,
   "metadata": {},
   "outputs": [
    {
     "data": {
      "text/plain": [
       "builtin_function_or_method"
      ]
     },
     "execution_count": 16,
     "metadata": {},
     "output_type": "execute_result"
    }
   ],
   "source": [
    "type(abs)"
   ]
  },
  {
   "cell_type": "markdown",
   "metadata": {},
   "source": [
    "### Expression, Variable, Value, and Object\n",
    "Variables and Values here are similar to Matlab"
   ]
  },
  {
   "cell_type": "code",
   "execution_count": 18,
   "metadata": {},
   "outputs": [
    {
     "name": "stdout",
     "output_type": "stream",
     "text": [
      "2250855669424\n"
     ]
    },
    {
     "data": {
      "text/plain": [
       "str"
      ]
     },
     "execution_count": 18,
     "metadata": {},
     "output_type": "execute_result"
    }
   ],
   "source": [
    "string='python'\n",
    "print(id(string)) # identity of variable\n",
    "type(string) # type of variable"
   ]
  },
  {
   "cell_type": "markdown",
   "metadata": {},
   "source": [
    "When we execute *variable* = *value*, in Python, it digs deep into your computer memory space\n",
    "\n",
    "After running code: \n",
    "a=3\n",
    "b=a\n",
    "b=1\n",
    "\n",
    "- 2 possible mechanisms (models)\n",
    "    - Model 1 (variable (box)-value(ball)) (what happens in C or Matlab)\n",
    "        - a=3\n",
    "            - when you assign a value to a variable, it's like you're putting a ball into a box, so when you get the box out to use it, you know there is a ball in there\n",
    "            - we first establish variable into the memory (id1)(you put the box into the room)\n",
    "        - b=a\n",
    "            - b is a new box, you put the ball (3) into the new box, and then you put it into another room (memory, id2)\n",
    "        - b=1\n",
    "            - box b is still there, you're replacing the ball (3) with the ball (1)\n",
    "\n",
    "    - Model 2 (names (label, sticker) - object (ball)) (what happens in Python\n",
    "        - a=3\n",
    "            - a (sticker) is attached to 3 (ball) and the labeled ball is placed into the memory (id1)(room)\n",
    "        - b=a\n",
    "            - b (sticker) is attached to 3 (ball) and both a and b occupies 3, both a and b point the the same object, but only one memory space (id1) is open\n",
    "        - b=1\n",
    "            - another ball (1), meaning another space, the b sticker on 3 is deleted, and b is sticked onto 1, while a still remains on 3 (ball)\n",
    "\n",
    "NOTE: each object has its own allocated space in the memory"
   ]
  }
 ],
 "metadata": {
  "kernelspec": {
   "display_name": "Python 3",
   "language": "python",
   "name": "python3"
  },
  "language_info": {
   "codemirror_mode": {
    "name": "ipython",
    "version": 3
   },
   "file_extension": ".py",
   "mimetype": "text/x-python",
   "name": "python",
   "nbconvert_exporter": "python",
   "pygments_lexer": "ipython3",
   "version": "3.8.5"
  }
 },
 "nbformat": 4,
 "nbformat_minor": 4
}
